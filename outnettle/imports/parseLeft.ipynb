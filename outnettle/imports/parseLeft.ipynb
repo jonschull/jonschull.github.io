{
 "cells": [
  {
   "cell_type": "markdown",
   "metadata": {},
   "source": []
  },
  {
   "cell_type": "code",
   "execution_count": 9,
   "metadata": {},
   "outputs": [],
   "source": [
    "\"\"\"plan \n",
    "    allow comments\n",
    "    prevent lingering options\n",
    "    fix borderWidth on items\n",
    "\"\"\";"
   ]
  },
  {
   "cell_type": "code",
   "execution_count": 1,
   "metadata": {},
   "outputs": [
    {
     "data": {
      "text/plain": [
       "'id test\\n\\tlinkto  one two\\n\\tlabel test\\n\\tborderWidth\\nid one\\n\\tlabel one\\n\\tlinkto\\nid two\\n\\tlinkto\\n\\tlabel two\\nnodes\\n\\tborderWidth 3\\n'"
      ]
     },
     "execution_count": 1,
     "metadata": {},
     "output_type": "execute_result"
    }
   ],
   "source": [
    "graphString=\"\"\"id test\n",
    "\tlinkto  one two\n",
    "\tlabel test\n",
    "\tborderWidth\n",
    "id one\n",
    "\tlabel one\n",
    "\tlinkto\n",
    "id two\n",
    "\tlinkto\n",
    "\tlabel two\n",
    "nodes\n",
    "\tborderWidth 3\n",
    "\"\"\"\n",
    "graphString"
   ]
  },
  {
   "cell_type": "code",
   "execution_count": 2,
   "metadata": {},
   "outputs": [
    {
     "name": "stdout",
     "output_type": "stream",
     "text": [
      "lines ['id test', '\\tlinkto  one two', '\\tlabel test', '\\tborderWidth', 'id one', '\\tlabel one', '\\tlinkto', 'id two', '\\tlinkto', '\\tlabel two', 'nodes', '\\tborderWidth 3', '']\n"
     ]
    },
    {
     "data": {
      "text/plain": [
       "['id test\\n\\tlinkto  one two\\n\\tlabel test\\n\\tborderWidth\\n',\n",
       " 'id one\\n\\tlabel one\\n\\tlinkto\\n',\n",
       " 'id two\\n\\tlinkto\\n\\tlabel two\\n',\n",
       " 'nodes\\n\\tborderWidth 3\\n']"
      ]
     },
     "execution_count": 2,
     "metadata": {},
     "output_type": "execute_result"
    }
   ],
   "source": [
    "def getChunks(graphString=graphString):\n",
    "    \"\"\"each chunk is a string that needs to be converted into a record\"\"\"\n",
    "    lines = graphString.split('\\n')\n",
    "    withBreaks = []\n",
    "    print('lines', lines)\n",
    "    for line in lines:\n",
    "        if not line.startswith('\\t'):\n",
    "            withBreaks.append('@@' + line)\n",
    "        else:\n",
    "            withBreaks.append(line)\n",
    "    rejoined = '\\n'.join(withBreaks)\n",
    "    ret=[ _ for _  in rejoined.split('@@') if _.strip()]\n",
    "    return ret\n",
    "getChunks()"
   ]
  },
  {
   "cell_type": "code",
   "execution_count": 3,
   "metadata": {},
   "outputs": [
    {
     "name": "stdout",
     "output_type": "stream",
     "text": [
      "lines ['id test', '\\tlinkto  one two', '\\tlabel test', '\\tborderWidth', 'id one', '\\tlabel one', '\\tlinkto', 'id two', '\\tlinkto', '\\tlabel two', 'nodes', '\\tborderWidth 3', '']\n"
     ]
    },
    {
     "data": {
      "text/plain": [
       "[['id test', 'linkto  one two', 'label test', 'borderWidth'],\n",
       " ['id one', 'label one', 'linkto'],\n",
       " ['id two', 'linkto', 'label two'],\n",
       " ['nodes', 'borderWidth 3']]"
      ]
     },
     "execution_count": 3,
     "metadata": {},
     "output_type": "execute_result"
    }
   ],
   "source": [
    "keywords = \"\"\"\"id label url title linkto color shape\n",
    "font nodes edges x y layout physics hierarchical border\n",
    "borderWidth background opacity hidden\"\"\".split()\n",
    "\n",
    "def getRecords(graphString):\n",
    "    \"\"\"each record is a list of phrases taht will become a key value pair\n",
    "    complexity comes from fact that labels can be multi-line\"\"\"\n",
    "    chunks = getChunks(graphString)\n",
    "    records = []\n",
    "    for chunk in chunks:\n",
    "        for keyword in keywords: #we are now assuming indents\n",
    "            chunk=chunk.replace('\\n\\t'+ keyword,'BREAK'+ keyword) #keywords must be at beginning\n",
    "        lines=chunk.split('BREAK')\n",
    "        records.append([line.strip() for line in lines if line.strip()])\n",
    "    return records #used by getOptions and getNodes\n",
    "\n",
    "getRecords(graphString)"
   ]
  },
  {
   "cell_type": "code",
   "execution_count": 4,
   "metadata": {},
   "outputs": [
    {
     "name": "stdout",
     "output_type": "stream",
     "text": [
      "lines ['id test', '\\tlinkto  one two', '\\tlabel test', '\\tborderWidth', 'id one', '\\tlabel one', '\\tlinkto', 'id two', '\\tlinkto', '\\tlabel two', 'nodes', '\\tborderWidth 3', '']\n"
     ]
    },
    {
     "data": {
      "text/plain": [
       "{'id test': {'linkto': 'one two'},\n",
       " 'id one': {'label': 'one'},\n",
       " 'id two': {'label': 'two'},\n",
       " 'nodes': {'borderWidth': 3}}"
      ]
     },
     "execution_count": 4,
     "metadata": {},
     "output_type": "execute_result"
    }
   ],
   "source": [
    "def parseOptions(graphString=graphString):\n",
    "    \"\"\"Create nested dictionaries as required by visJS.  \n",
    "    At end, optionProcessing is complete, but nodes and edges need more massaging.\n",
    "    \"\"\"\n",
    "    def fixV(s):\n",
    "        \"\"\"deal with non-string values\"\"\"\n",
    "        if s in ['True', 'true']: return True\n",
    "        if s in ['False', 'false']: return False\n",
    "        try: # to convert to a number\n",
    "            return(int(s))\n",
    "        except:\n",
    "            return s #then just return as is\n",
    "    \n",
    "\n",
    "    records = getRecords(graphString)\n",
    "    newOpts = records#. SEE WHAT FAILS [record for record in records if record[0] in 'nodes edges layout physics'.split()]\n",
    "    options={}\n",
    "    for newOpt in newOpts:\n",
    "        kind = newOpt[0]\n",
    "        options[kind]= {}\n",
    "        for opt in newOpt[1:]:\n",
    "            if len(opt.split())>1:\n",
    "                k,vs = opt.split()[0], opt.split()[1:]\n",
    "                ###################\n",
    "                if k=='linkto':  #don't turn into dictionaries\n",
    "                    options[kind][k]=' '.join(vs) #leave linktos as space delimited 'ONE TWO THREE'\n",
    "                    break\n",
    "\n",
    "                if len(vs)==1:\n",
    "                    v=vs[0]\n",
    "                    options[kind][k] = fixV(v)\n",
    "\n",
    "                if len(vs)==2:\n",
    "                    k2, v = vs\n",
    "                    if k not in options[kind]: #make sure we have the dict created\n",
    "                        options[kind][k]=dict()\n",
    "\n",
    "                    options[kind][k][k2] = fixV(v)\n",
    "\n",
    "                if len(vs)==3: #will fail beyond this\n",
    "                    k2, k3, v = vs\n",
    "                    if k not in options[kind]:\n",
    "                        options[kind][k]=dict()\n",
    "\n",
    "                    if k2 not in options[kind][k]:\n",
    "                        options[kind][k][k2] = dict()\n",
    "\n",
    "                    options[kind][k][k2][k3] = fixV(v)\n",
    "\n",
    "\n",
    "    return options\n",
    "parseOptions()"
   ]
  },
  {
   "cell_type": "code",
   "execution_count": 5,
   "metadata": {},
   "outputs": [
    {
     "name": "stdout",
     "output_type": "stream",
     "text": [
      "lines ['id test', '\\tlinkto  one two', '\\tlabel test', '\\tborderWidth', 'id one', '\\tlabel one', '\\tlinkto', 'id two', '\\tlinkto', '\\tlabel two', 'nodes', '\\tborderWidth 3', '']\n"
     ]
    },
    {
     "data": {
      "text/plain": [
       "[{'id': 'test', 'linkto': 'one two'},\n",
       " {'id': 'one', 'label': 'one'},\n",
       " {'id': 'two', 'label': 'two'}]"
      ]
     },
     "execution_count": 5,
     "metadata": {},
     "output_type": "execute_result"
    }
   ],
   "source": [
    "def nodesEdgesOptions(graphString=graphString):\n",
    "    \"\"\"create a dictionary that has nodes, edges and options formatted as required by visjs\n",
    "    \"\"\"\n",
    "    entries=[]\n",
    "    PO = parseOptions(graphString)\n",
    "    entries= dict(nodes=[], edges=[], options={})\n",
    "    for k,v in PO.items():\n",
    "        if k.startswith('id'): #create a node entry\n",
    "            id = k.split('id')[1].strip()\n",
    "            node = {'id': id}\n",
    "            for k2,v2 in v.items():\n",
    "                node[k2]=v2\n",
    "            entries['nodes'].append(node)\n",
    "        else:\n",
    "            entries['options'][k]=v  #create an option entry (we're expecting nodes, layout, physics, edges...maybe interaction )\n",
    "\n",
    "    for node in entries['nodes']: #create edges entries\n",
    "        if 'linkto' in node.keys():\n",
    "            for linkto in node['linkto'].split(' '):\n",
    "                entries['edges'].append( {'from':node['id'], 'to':linkto} )\n",
    "\n",
    "    return entries\n",
    "\n",
    "nodesEdgesOptions()['nodes']"
   ]
  },
  {
   "cell_type": "code",
   "execution_count": 7,
   "metadata": {},
   "outputs": [],
   "source": [
    "import subprocess\n",
    "if subprocess.run.__doc__:\n",
    "    cmd = 'jupyter nbconvert --to python parseLeft.ipynb'\n",
    "    subprocess.run(cmd.split(' '))\n"
   ]
  },
  {
   "cell_type": "code",
   "execution_count": null,
   "metadata": {},
   "outputs": [],
   "source": []
  },
  {
   "cell_type": "code",
   "execution_count": null,
   "metadata": {},
   "outputs": [],
   "source": []
  },
  {
   "cell_type": "code",
   "execution_count": null,
   "metadata": {},
   "outputs": [],
   "source": []
  },
  {
   "cell_type": "code",
   "execution_count": null,
   "metadata": {},
   "outputs": [],
   "source": []
  },
  {
   "cell_type": "code",
   "execution_count": null,
   "metadata": {},
   "outputs": [],
   "source": []
  }
 ],
 "metadata": {
  "kernelspec": {
   "display_name": "Python 3",
   "language": "python",
   "name": "python3"
  },
  "language_info": {
   "codemirror_mode": {
    "name": "ipython",
    "version": 3
   },
   "file_extension": ".py",
   "mimetype": "text/x-python",
   "name": "python",
   "nbconvert_exporter": "python",
   "pygments_lexer": "ipython3",
   "version": "3.7.4"
  }
 },
 "nbformat": 4,
 "nbformat_minor": 4
}
