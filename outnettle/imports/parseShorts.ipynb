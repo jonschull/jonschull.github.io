{
 "cells": [
  {
   "cell_type": "code",
   "execution_count": 1,
   "metadata": {},
   "outputs": [],
   "source": [
    "shortStrings = \"\"\"Modules\n",
    "\tShortHands\n",
    "\t\tparse\n",
    "\t\tassign IDs\n",
    "\t\tsplice\n",
    "\t\tfillLeft\n",
    "\tLeft\n",
    "\t\trefreshGraph\n",
    "\t\t\tdataAndOptions\n",
    "\t\t\t\tgetNodes\n",
    "\t\t\t\tgetEdges\n",
    "\t\t\twindow.vis.DataSet\n",
    "\t\t\tparseOptions\n",
    "\t\t\t\tgetRecords\n",
    "\t\t\t\t\tgetChunks\n",
    "\t\n",
    "\"\"\""
   ]
  },
  {
   "cell_type": "code",
   "execution_count": 2,
   "metadata": {},
   "outputs": [],
   "source": [
    "def newNode(line):\n",
    "    return dict( id=None,\n",
    "                    depth = len(line) - len(line.lstrip()),\n",
    "                    linkto='',\n",
    "                    parent=None,\n",
    "                    parentid=None,\n",
    "                    label=None,\n",
    "                    raw=line)\n"
   ]
  },
  {
   "cell_type": "code",
   "execution_count": 3,
   "metadata": {},
   "outputs": [],
   "source": [
    "def assignID(preNode,line,lineID, addenda, assignedIDs):\n",
    "        if addenda: #CURRENTLY MUST BE MANUALLY INSERTED /ID ZERO\n",
    "            IDfromAddenda = addenda.split('ID ')\n",
    "            if len(IDfromAddenda)>1:\n",
    "                lineID = IDfromAddenda[1].split(' ')[0]\n",
    "        else:\n",
    "            if lineID==-1 or (lineID in assignedIDs):\n",
    "                lineID = list(IDs - assignedIDs)[0]\n",
    "        # use lineID\n",
    "        preNode['id']= lineID\n",
    "        assignedIDs.add(lineID)\n",
    "        return preNode, assignedIDs\n"
   ]
  },
  {
   "cell_type": "code",
   "execution_count": 4,
   "metadata": {},
   "outputs": [
    {
     "name": "stdout",
     "output_type": "stream",
     "text": [
      "[{'id': 'Modules', 'depth': 0, 'linkto': ' ShortHands Left', 'parent': None, 'parentid': None, 'label': 'Modules', 'raw': 'Modules'}, {'id': 'ShortHands', 'depth': 1, 'linkto': ' parse 699 splice fillLeft', 'parent': {'id': 'Modules', 'depth': 0, 'linkto': ' ShortHands Left', 'parent': None, 'parentid': None, 'label': 'Modules', 'raw': 'Modules'}, 'parentid': None, 'label': 'ShortHands', 'raw': '\\tShortHands', 'parentID': 'Modules'}, {'id': 'parse', 'depth': 2, 'linkto': '', 'parent': {'id': 'ShortHands', 'depth': 1, 'linkto': ' parse 699 splice fillLeft', 'parent': {'id': 'Modules', 'depth': 0, 'linkto': ' ShortHands Left', 'parent': None, 'parentid': None, 'label': 'Modules', 'raw': 'Modules'}, 'parentid': None, 'label': 'ShortHands', 'raw': '\\tShortHands', 'parentID': 'Modules'}, 'parentid': None, 'label': 'parse', 'raw': '\\t\\tparse', 'parentID': 'ShortHands'}, {'id': '699', 'depth': 2, 'linkto': '', 'parent': {'id': 'ShortHands', 'depth': 1, 'linkto': ' parse 699 splice fillLeft', 'parent': {'id': 'Modules', 'depth': 0, 'linkto': ' ShortHands Left', 'parent': None, 'parentid': None, 'label': 'Modules', 'raw': 'Modules'}, 'parentid': None, 'label': 'ShortHands', 'raw': '\\tShortHands', 'parentID': 'Modules'}, 'parentid': None, 'label': 'assign IDs', 'raw': '\\t\\tassign IDs', 'parentID': 'ShortHands'}, {'id': 'splice', 'depth': 2, 'linkto': '', 'parent': {'id': 'ShortHands', 'depth': 1, 'linkto': ' parse 699 splice fillLeft', 'parent': {'id': 'Modules', 'depth': 0, 'linkto': ' ShortHands Left', 'parent': None, 'parentid': None, 'label': 'Modules', 'raw': 'Modules'}, 'parentid': None, 'label': 'ShortHands', 'raw': '\\tShortHands', 'parentID': 'Modules'}, 'parentid': None, 'label': 'splice', 'raw': '\\t\\tsplice', 'parentID': 'ShortHands'}, {'id': 'fillLeft', 'depth': 2, 'linkto': '', 'parent': {'id': 'ShortHands', 'depth': 1, 'linkto': ' parse 699 splice fillLeft', 'parent': {'id': 'Modules', 'depth': 0, 'linkto': ' ShortHands Left', 'parent': None, 'parentid': None, 'label': 'Modules', 'raw': 'Modules'}, 'parentid': None, 'label': 'ShortHands', 'raw': '\\tShortHands', 'parentID': 'Modules'}, 'parentid': None, 'label': 'fillLeft', 'raw': '\\t\\tfillLeft', 'parentID': 'ShortHands'}, {'id': 'Left', 'depth': 1, 'linkto': ' refreshGraph', 'parent': {'id': 'Modules', 'depth': 0, 'linkto': ' ShortHands Left', 'parent': None, 'parentid': None, 'label': 'Modules', 'raw': 'Modules'}, 'parentid': None, 'label': 'Left', 'raw': '\\tLeft', 'parentID': 'Modules'}, {'id': 'refreshGraph', 'depth': 2, 'linkto': ' dataAndOptions window.vis.DataSet parseOptions', 'parent': {'id': 'Left', 'depth': 1, 'linkto': ' refreshGraph', 'parent': {'id': 'Modules', 'depth': 0, 'linkto': ' ShortHands Left', 'parent': None, 'parentid': None, 'label': 'Modules', 'raw': 'Modules'}, 'parentid': None, 'label': 'Left', 'raw': '\\tLeft', 'parentID': 'Modules'}, 'parentid': None, 'label': 'refreshGraph', 'raw': '\\t\\trefreshGraph', 'parentID': 'Left'}, {'id': 'dataAndOptions', 'depth': 3, 'linkto': ' getNodes getEdges', 'parent': {'id': 'refreshGraph', 'depth': 2, 'linkto': ' dataAndOptions window.vis.DataSet parseOptions', 'parent': {'id': 'Left', 'depth': 1, 'linkto': ' refreshGraph', 'parent': {'id': 'Modules', 'depth': 0, 'linkto': ' ShortHands Left', 'parent': None, 'parentid': None, 'label': 'Modules', 'raw': 'Modules'}, 'parentid': None, 'label': 'Left', 'raw': '\\tLeft', 'parentID': 'Modules'}, 'parentid': None, 'label': 'refreshGraph', 'raw': '\\t\\trefreshGraph', 'parentID': 'Left'}, 'parentid': None, 'label': 'dataAndOptions', 'raw': '\\t\\t\\tdataAndOptions', 'parentID': 'refreshGraph'}, {'id': 'getNodes', 'depth': 4, 'linkto': '', 'parent': {'id': 'dataAndOptions', 'depth': 3, 'linkto': ' getNodes getEdges', 'parent': {'id': 'refreshGraph', 'depth': 2, 'linkto': ' dataAndOptions window.vis.DataSet parseOptions', 'parent': {'id': 'Left', 'depth': 1, 'linkto': ' refreshGraph', 'parent': {'id': 'Modules', 'depth': 0, 'linkto': ' ShortHands Left', 'parent': None, 'parentid': None, 'label': 'Modules', 'raw': 'Modules'}, 'parentid': None, 'label': 'Left', 'raw': '\\tLeft', 'parentID': 'Modules'}, 'parentid': None, 'label': 'refreshGraph', 'raw': '\\t\\trefreshGraph', 'parentID': 'Left'}, 'parentid': None, 'label': 'dataAndOptions', 'raw': '\\t\\t\\tdataAndOptions', 'parentID': 'refreshGraph'}, 'parentid': None, 'label': 'getNodes', 'raw': '\\t\\t\\t\\tgetNodes', 'parentID': 'dataAndOptions'}, {'id': 'getEdges', 'depth': 4, 'linkto': '', 'parent': {'id': 'dataAndOptions', 'depth': 3, 'linkto': ' getNodes getEdges', 'parent': {'id': 'refreshGraph', 'depth': 2, 'linkto': ' dataAndOptions window.vis.DataSet parseOptions', 'parent': {'id': 'Left', 'depth': 1, 'linkto': ' refreshGraph', 'parent': {'id': 'Modules', 'depth': 0, 'linkto': ' ShortHands Left', 'parent': None, 'parentid': None, 'label': 'Modules', 'raw': 'Modules'}, 'parentid': None, 'label': 'Left', 'raw': '\\tLeft', 'parentID': 'Modules'}, 'parentid': None, 'label': 'refreshGraph', 'raw': '\\t\\trefreshGraph', 'parentID': 'Left'}, 'parentid': None, 'label': 'dataAndOptions', 'raw': '\\t\\t\\tdataAndOptions', 'parentID': 'refreshGraph'}, 'parentid': None, 'label': 'getEdges', 'raw': '\\t\\t\\t\\tgetEdges', 'parentID': 'dataAndOptions'}, {'id': 'window.vis.DataSet', 'depth': 3, 'linkto': '', 'parent': {'id': 'refreshGraph', 'depth': 2, 'linkto': ' dataAndOptions window.vis.DataSet parseOptions', 'parent': {'id': 'Left', 'depth': 1, 'linkto': ' refreshGraph', 'parent': {'id': 'Modules', 'depth': 0, 'linkto': ' ShortHands Left', 'parent': None, 'parentid': None, 'label': 'Modules', 'raw': 'Modules'}, 'parentid': None, 'label': 'Left', 'raw': '\\tLeft', 'parentID': 'Modules'}, 'parentid': None, 'label': 'refreshGraph', 'raw': '\\t\\trefreshGraph', 'parentID': 'Left'}, 'parentid': None, 'label': 'window.vis.DataSet', 'raw': '\\t\\t\\twindow.vis.DataSet', 'parentID': 'refreshGraph'}, {'id': 'parseOptions', 'depth': 3, 'linkto': ' getRecords', 'parent': {'id': 'refreshGraph', 'depth': 2, 'linkto': ' dataAndOptions window.vis.DataSet parseOptions', 'parent': {'id': 'Left', 'depth': 1, 'linkto': ' refreshGraph', 'parent': {'id': 'Modules', 'depth': 0, 'linkto': ' ShortHands Left', 'parent': None, 'parentid': None, 'label': 'Modules', 'raw': 'Modules'}, 'parentid': None, 'label': 'Left', 'raw': '\\tLeft', 'parentID': 'Modules'}, 'parentid': None, 'label': 'refreshGraph', 'raw': '\\t\\trefreshGraph', 'parentID': 'Left'}, 'parentid': None, 'label': 'parseOptions', 'raw': '\\t\\t\\tparseOptions', 'parentID': 'refreshGraph'}, {'id': 'getRecords', 'depth': 4, 'linkto': ' getChunks', 'parent': {'id': 'parseOptions', 'depth': 3, 'linkto': ' getRecords', 'parent': {'id': 'refreshGraph', 'depth': 2, 'linkto': ' dataAndOptions window.vis.DataSet parseOptions', 'parent': {'id': 'Left', 'depth': 1, 'linkto': ' refreshGraph', 'parent': {'id': 'Modules', 'depth': 0, 'linkto': ' ShortHands Left', 'parent': None, 'parentid': None, 'label': 'Modules', 'raw': 'Modules'}, 'parentid': None, 'label': 'Left', 'raw': '\\tLeft', 'parentID': 'Modules'}, 'parentid': None, 'label': 'refreshGraph', 'raw': '\\t\\trefreshGraph', 'parentID': 'Left'}, 'parentid': None, 'label': 'parseOptions', 'raw': '\\t\\t\\tparseOptions', 'parentID': 'refreshGraph'}, 'parentid': None, 'label': 'getRecords', 'raw': '\\t\\t\\t\\tgetRecords', 'parentID': 'parseOptions'}, {'id': 'getChunks', 'depth': 5, 'linkto': '', 'parent': {'id': 'getRecords', 'depth': 4, 'linkto': ' getChunks', 'parent': {'id': 'parseOptions', 'depth': 3, 'linkto': ' getRecords', 'parent': {'id': 'refreshGraph', 'depth': 2, 'linkto': ' dataAndOptions window.vis.DataSet parseOptions', 'parent': {'id': 'Left', 'depth': 1, 'linkto': ' refreshGraph', 'parent': {'id': 'Modules', 'depth': 0, 'linkto': ' ShortHands Left', 'parent': None, 'parentid': None, 'label': 'Modules', 'raw': 'Modules'}, 'parentid': None, 'label': 'Left', 'raw': '\\tLeft', 'parentID': 'Modules'}, 'parentid': None, 'label': 'refreshGraph', 'raw': '\\t\\trefreshGraph', 'parentID': 'Left'}, 'parentid': None, 'label': 'parseOptions', 'raw': '\\t\\t\\tparseOptions', 'parentID': 'refreshGraph'}, 'parentid': None, 'label': 'getRecords', 'raw': '\\t\\t\\t\\tgetRecords', 'parentID': 'parseOptions'}, 'parentid': None, 'label': 'getChunks', 'raw': '\\t\\t\\t\\t\\tgetChunks', 'parentID': 'getRecords'}]\n"
     ]
    }
   ],
   "source": [
    "IDs = set([str(i) for i in range(1000)][1:])\n",
    "\n",
    "def makePreNodes(shortStrings=shortStrings):\n",
    "    assignedIDs = set()\n",
    "\n",
    "    #########\n",
    "    #shortStrings = editor.getValue()\n",
    "    #########x\n",
    "    lines=shortStrings.split('\\n')\n",
    "    #print('lines', lines)\n",
    "\n",
    "    preNodes = [newNode(line) for line in lines if line.strip()]\n",
    "    # compute parents\n",
    "    for i in range(len(preNodes)):\n",
    "        my = preNodes[i]\n",
    "        if i>0: #first guy has no parent\n",
    "            for j in range(i+1):\n",
    "                if preNodes[i-j]['depth'] < my['depth']: #found parent\n",
    "                    preNodes[i]['parent'] = preNodes[i-j]  #parents\n",
    "                    break # We now know our parent\n",
    "\n",
    "    for i,preNode in enumerate(preNodes):\n",
    "        line=preNode['raw']\n",
    "\n",
    "        #### extract components for future use.\n",
    "        if '/' in line: #split off addenda\n",
    "            line, addenda = line[:line.find('/')], line[line.find('/')+1 :]\n",
    "            addenda=addenda.strip()\n",
    "        else:\n",
    "            addenda = ''\n",
    "\n",
    "        if ':' in line: #split off linktos\n",
    "            line, linkto = line[:line.find(':')], line[line.find(':')+1 :]\n",
    "            #linkto=linkto.split()\n",
    "        else:\n",
    "            linkto=''\n",
    "\n",
    "        words = line.strip().split(' ')\n",
    "        if len(words) == 1: #one word Labels become IDs\n",
    "            lineID = words[0].strip()\n",
    "        else:\n",
    "            lineID = -1\n",
    "            #preNode['ADDENDA']= '/ID ' + lineID\n",
    "\n",
    "        #### use line and components carefully\n",
    "        preNode['label']=line.strip()\n",
    "\n",
    "        if preNode['parent']:  #since parent precedes child, parent ID is available for use\n",
    "            preNode['parentID'] = preNode['parent']['id']\n",
    "\n",
    "        ####assign ID and update assignedIDs\n",
    "        preNode, assignedIDs = assignID(preNode,line,lineID, addenda, assignedIDs)\n",
    "\n",
    "        #Linktos #aggregate linktos for when we get out of the loop\n",
    "        if preNode['parent']:\n",
    "            preNode['parent']['linkto'] += ' ' + preNode['id'] #works\n",
    "        if linkto:\n",
    "            preNode['linkto'] += ' ' + linkto\n",
    "        #preNode['addenda'] = niceRep(preNode, goodKeys='id label linkto title borderWidth'.split(' '))\n",
    "\n",
    "    linktos=set() #collect all the linktos for all the nodes\n",
    "    for preNode in preNodes:\n",
    "        for target in preNode['linkto'].split(' '):\n",
    "            linktos.add(target)\n",
    "\n",
    "    #collect all explicit IDs for all the  nodes\n",
    "    namedNodes=set([node['id']for node in preNodes])\n",
    "\n",
    "    #create nodes that were mentioned in linktos but not explicitly named\n",
    "    for ID in linktos-namedNodes: #the linktos that need to be named\n",
    "        if ID:\n",
    "            newPreNode = newNode(ID)\n",
    "            newPreNode['id']=ID\n",
    "            newPreNode['label']= ID\n",
    "            preNodes.append(newPreNode)\n",
    "    return preNodes\n",
    "\n",
    "print(makePreNodes())\n"
   ]
  },
  {
   "cell_type": "code",
   "execution_count": 5,
   "metadata": {},
   "outputs": [],
   "source": [
    "import subprocess\n",
    "if subprocess.run.__doc__:\n",
    "    cmd = 'jupyter nbconvert --to python parseShorts.ipynb'\n",
    "    subprocess.run(cmd.split(' '))\n"
   ]
  },
  {
   "cell_type": "code",
   "execution_count": null,
   "metadata": {},
   "outputs": [],
   "source": []
  }
 ],
 "metadata": {
  "kernelspec": {
   "display_name": "Python 3",
   "language": "python",
   "name": "python3"
  },
  "language_info": {
   "codemirror_mode": {
    "name": "ipython",
    "version": 3
   },
   "file_extension": ".py",
   "mimetype": "text/x-python",
   "name": "python",
   "nbconvert_exporter": "python",
   "pygments_lexer": "ipython3",
   "version": "3.7.4"
  }
 },
 "nbformat": 4,
 "nbformat_minor": 4
}
