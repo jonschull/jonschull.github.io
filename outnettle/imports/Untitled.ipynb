{
 "cells": [
  {
   "cell_type": "code",
   "execution_count": 65,
   "metadata": {},
   "outputs": [],
   "source": [
    "import subprocess\n",
    "if subprocess.run.__doc__:\n",
    "    cmd = 'jupyter nbconvert --to python Untitled.ipynb'\n",
    "    subprocess.run(cmd.split(' '))\n",
    "\n"
   ]
  },
  {
   "cell_type": "code",
   "execution_count": 62,
   "metadata": {},
   "outputs": [
    {
     "data": {
      "text/plain": [
       "'Run command with arguments and return a CompletedProcess instance.\\n\\n    The returned instance will have attributes args, returncode, stdout and\\n    stderr. By default, stdout and stderr are not captured, and those attributes\\n    will be None. Pass stdout=PIPE and/or stderr=PIPE in order to capture them.\\n\\n    If check is True and the exit code was non-zero, it raises a\\n    CalledProcessError. The CalledProcessError object will have the return code\\n    in the returncode attribute, and output & stderr attributes if those streams\\n    were captured.\\n\\n    If timeout is given, and the process takes too long, a TimeoutExpired\\n    exception will be raised.\\n\\n    There is an optional argument \"input\", allowing you to\\n    pass bytes or a string to the subprocess\\'s stdin.  If you use this argument\\n    you may not also use the Popen constructor\\'s \"stdin\" argument, as\\n    it will be used internally.\\n\\n    By default, all communication is in bytes, and therefore any \"input\" should\\n    be bytes, and the stdout and stderr will be bytes. If in text mode, any\\n    \"input\" should be a string, and stdout and stderr will be strings decoded\\n    according to locale encoding, or by \"encoding\" if set. Text mode is\\n    triggered by setting any of text, encoding, errors or universal_newlines.\\n\\n    The other arguments are the same as for the Popen constructor.\\n    '"
      ]
     },
     "execution_count": 62,
     "metadata": {},
     "output_type": "execute_result"
    }
   ],
   "source": [
    "subprocess.run.__doc__"
   ]
  },
  {
   "cell_type": "code",
   "execution_count": 60,
   "metadata": {},
   "outputs": [
    {
     "name": "stdout",
     "output_type": "stream",
     "text": [
      "Untitled.ipynb    __init__.py       parseLeft.ipynb   parseShorts.ipynb\n",
      "Untitled.py       nodestuff2.py     parseLeft.py      parseShorts.py\n"
     ]
    }
   ],
   "source": [
    "!ls"
   ]
  },
  {
   "cell_type": "code",
   "execution_count": 4,
   "metadata": {},
   "outputs": [
    {
     "data": {
      "text/plain": [
       "'Automatically created module for IPython interactive environment'"
      ]
     },
     "execution_count": 4,
     "metadata": {},
     "output_type": "execute_result"
    }
   ],
   "source": [
    "__doc__"
   ]
  },
  {
   "cell_type": "code",
   "execution_count": 5,
   "metadata": {},
   "outputs": [
    {
     "data": {
      "text/plain": [
       "'Automatically created module for IPython interactive environment'"
      ]
     },
     "execution_count": 5,
     "metadata": {},
     "output_type": "execute_result"
    }
   ],
   "source": [
    "_"
   ]
  },
  {
   "cell_type": "code",
   "execution_count": 6,
   "metadata": {},
   "outputs": [
    {
     "data": {
      "text/plain": [
       "'Automatically created module for IPython interactive environment'"
      ]
     },
     "execution_count": 6,
     "metadata": {},
     "output_type": "execute_result"
    }
   ],
   "source": [
    "__"
   ]
  },
  {
   "cell_type": "code",
   "execution_count": 7,
   "metadata": {},
   "outputs": [
    {
     "data": {
      "text/plain": [
       "'Automatically created module for IPython interactive environment'"
      ]
     },
     "execution_count": 7,
     "metadata": {},
     "output_type": "execute_result"
    }
   ],
   "source": [
    "___"
   ]
  },
  {
   "cell_type": "code",
   "execution_count": 8,
   "metadata": {},
   "outputs": [
    {
     "data": {
      "text/plain": [
       "{1: ['In',\n",
       "  'Out',\n",
       "  '_',\n",
       "  '__',\n",
       "  '___',\n",
       "  '__builtin__',\n",
       "  '__builtins__',\n",
       "  '__doc__',\n",
       "  '__loader__',\n",
       "  '__name__',\n",
       "  '__package__',\n",
       "  '__spec__',\n",
       "  '_dh',\n",
       "  '_i',\n",
       "  '_i1',\n",
       "  '_ih',\n",
       "  '_ii',\n",
       "  '_iii',\n",
       "  '_oh',\n",
       "  'exit',\n",
       "  'get_ipython',\n",
       "  'quit'],\n",
       " 2: <ipykernel.zmqshell.ZMQInteractiveShell at 0x7f8ec391e1d0>,\n",
       " 3: '__main__',\n",
       " 4: 'Automatically created module for IPython interactive environment',\n",
       " 5: 'Automatically created module for IPython interactive environment',\n",
       " 6: 'Automatically created module for IPython interactive environment',\n",
       " 7: 'Automatically created module for IPython interactive environment'}"
      ]
     },
     "execution_count": 8,
     "metadata": {},
     "output_type": "execute_result"
    }
   ],
   "source": [
    "_oh"
   ]
  },
  {
   "cell_type": "code",
   "execution_count": null,
   "metadata": {},
   "outputs": [],
   "source": []
  }
 ],
 "metadata": {
  "kernelspec": {
   "display_name": "Python 3",
   "language": "python",
   "name": "python3"
  },
  "language_info": {
   "codemirror_mode": {
    "name": "ipython",
    "version": 3
   },
   "file_extension": ".py",
   "mimetype": "text/x-python",
   "name": "python",
   "nbconvert_exporter": "python",
   "pygments_lexer": "ipython3",
   "version": "3.7.4"
  }
 },
 "nbformat": 4,
 "nbformat_minor": 4
}
