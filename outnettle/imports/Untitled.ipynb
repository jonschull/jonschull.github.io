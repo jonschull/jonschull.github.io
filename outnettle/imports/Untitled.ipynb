{
 "cells": [
  {
   "cell_type": "code",
   "execution_count": 2,
   "metadata": {},
   "outputs": [],
   "source": [
    "\"\"\"\n",
    "irregular.  reset options with each refresh; done\n",
    "\n",
    "id a\n",
    "\tcolor lime\n",
    "\tlabel a\n",
    "\tlinkto  b c d e\n",
    "id b\n",
    "\tlabel b\n",
    "\tlinkto\n",
    "id c\n",
    "\tlabel c\n",
    "\tlinkto\n",
    "id d\n",
    "\tlabel d\n",
    "\tlinkto\n",
    "id e\n",
    "\tlabel e\n",
    "\tlinkto\n",
    "nodes\n",
    "\tcolor pink\n",
    "\tcolor border black\n",
    "\t \n",
    "\n",
    "onShortHands calls ...\n",
    "    fillEdit does not call refreshGraph\n",
    "    oneEdit call refreshGraph\n",
    "getOptions calls refreshGraph\n",
    "#initialize calls refreshGraph\n",
    "\n",
    "\n",
    "\"\"\";"
   ]
  },
  {
   "cell_type": "code",
   "execution_count": null,
   "metadata": {},
   "outputs": [],
   "source": []
  }
 ],
 "metadata": {
  "kernelspec": {
   "display_name": "Python 3",
   "language": "python",
   "name": "python3"
  },
  "language_info": {
   "codemirror_mode": {
    "name": "ipython",
    "version": 3
   },
   "file_extension": ".py",
   "mimetype": "text/x-python",
   "name": "python",
   "nbconvert_exporter": "python",
   "pygments_lexer": "ipython3",
   "version": "3.7.4"
  }
 },
 "nbformat": 4,
 "nbformat_minor": 4
}
