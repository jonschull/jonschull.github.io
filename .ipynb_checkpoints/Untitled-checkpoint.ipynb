{
 "cells": [
  {
   "cell_type": "code",
   "execution_count": 15,
   "metadata": {},
   "outputs": [
    {
     "name": "stdout",
     "output_type": "stream",
     "text": [
      "{'TITLE': 'This is popup text for the last item'}\n"
     ]
    }
   ],
   "source": [
    "graphString = \"\"\"\n",
    "    ID      1\n",
    "    LABEL   First item\n",
    "    URL     This is the hubURL\n",
    "    TITLE   This is popup text\n",
    "    it can be multiple lines\n",
    "    but don't go crazy\n",
    "\n",
    "    ID      1.1\n",
    "    LABEL   Second Item\n",
    "    URL     This is the URL\n",
    "    TITLE   This is popup text\n",
    "\n",
    "    ID      1.1.1\n",
    "    LABEL   This is what shows\n",
    "    URL     This is the URL\n",
    "    TITLE   This is popup text\n",
    "\n",
    "    ID      1.1.2\n",
    "    LABEL   These two are siblings\n",
    "    URL     This is the URL\n",
    "    TITLE   This is popup text for the last item\n",
    "    \"\"\"\n",
    "\n",
    "keywords = 'ID LABEL URL TITLE'.split()\n",
    "\n",
    "def getItems(graphString=graphString):\n",
    "    items = graphString.strip().split('ID')\n",
    "    items = [item for item in items if item.strip()]\n",
    "    ites=[] #a list of dicts\n",
    "    for item in items:\n",
    "        ite = dict()\n",
    "        for line in item.split('\\n'):\n",
    "            if line.strip():\n",
    "                firstWord = line.split()[0]\n",
    "                if firstWord in keywords:\n",
    "                    ite[firstWord] = line.replace(firstWord,'').strip()\n",
    "    print(ite)\n",
    "\n",
    "getItems()"
   ]
  },
  {
   "cell_type": "code",
   "execution_count": null,
   "metadata": {},
   "outputs": [],
   "source": []
  }
 ],
 "metadata": {
  "kernelspec": {
   "display_name": "Python 3",
   "language": "python",
   "name": "python3"
  },
  "language_info": {
   "codemirror_mode": {
    "name": "ipython",
    "version": 3
   },
   "file_extension": ".py",
   "mimetype": "text/x-python",
   "name": "python",
   "nbconvert_exporter": "python",
   "pygments_lexer": "ipython3",
   "version": "3.7.4"
  }
 },
 "nbformat": 4,
 "nbformat_minor": 4
}
