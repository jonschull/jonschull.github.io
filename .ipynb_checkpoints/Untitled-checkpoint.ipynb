{
 "cells": [
  {
   "cell_type": "code",
   "execution_count": 30,
   "metadata": {},
   "outputs": [
    {
     "data": {
      "text/plain": [
       "{'ID': ' 1',\n",
       " 'LABEL': '   First item',\n",
       " 'URL': '     This is the hub',\n",
       " 'TITLE': '   This is popup text',\n",
       " 'this': \" can be multiple lines\\n but don't go crazy\\n LINKTO  2\"}"
      ]
     },
     "execution_count": 30,
     "metadata": {},
     "output_type": "execute_result"
    }
   ],
   "source": [
    "graphString = \"\"\"\n",
    "    ID      1\n",
    "    LABEL   First item\n",
    "    URL     This is the hubURL\n",
    "    TITLE   This is popup text\n",
    "            this can be multiple lines\n",
    "            but don't go crazy\n",
    "    LINKTO  2\n",
    "    \n",
    "    ID      2\n",
    "    LABEL   Second Item\n",
    "    URL     This is the URL\n",
    "    TITLE   This is popup text\n",
    "\n",
    "    ID      3\n",
    "    LABEL   This is what shows\n",
    "    URL     This is the URL\n",
    "    TITLE   This is popup text\n",
    "\n",
    "    ID      4\n",
    "    LABEL   These two are siblings\n",
    "    URL     This is the URL\n",
    "    TITLE   This is popup text for the last item\n",
    "            a two-liner\n",
    "    \"\"\"\n",
    "\n",
    "keywords = 'ID LABEL URL TITLE LINKTO'.split()\n",
    "\n",
    "\n",
    "def getItems(graphString=graphString):\n",
    "    items = graphString.strip().split('ID')\n",
    "    items = [item for item in items if item.strip()]\n",
    "    nodes=[] #a list of dicts\n",
    "    for item in items:\n",
    "        node = dict()\n",
    "        for i, line in enumerate(item.split('\\n')):\n",
    "            if line.strip():\n",
    "                line=line.strip(' ')\n",
    "                if i == 0: \n",
    "                    line = 'ID ' + line\n",
    "                    firstWord = 'ID'\n",
    "                candidate = line.split()[0]\n",
    "                if firstWord in keywords:\n",
    "                    firstWord = candidate\n",
    "                    node[firstWord] = line.replace(firstWord,'')\n",
    "                else:\n",
    "                    indent = len(node[firstWord]) - len(node[firstWord].lstrip())\n",
    "                    node[firstWord] += '\\n' + indent*' ' + line\n",
    "        nodes.append(node)\n",
    "    return(nodes)\n",
    "\n",
    "nodes=getItems()\n",
    "nodes[0]"
   ]
  },
  {
   "cell_type": "code",
   "execution_count": 8,
   "metadata": {},
   "outputs": [
    {
     "data": {
      "text/plain": [
       "['ID', 'LABEL', 'URL', 'TITLE', 'KIDS']"
      ]
     },
     "execution_count": 8,
     "metadata": {},
     "output_type": "execute_result"
    }
   ],
   "source": [
    "keywords"
   ]
  },
  {
   "cell_type": "code",
   "execution_count": 16,
   "metadata": {},
   "outputs": [
    {
     "name": "stdout",
     "output_type": "stream",
     "text": [
      "ID      1\n",
      "LABEL   First item\n",
      "URL     This is the hubURL\n",
      "TITLE   This is popup text\n",
      "this can be multiple lines\n",
      "but don't go crazy\n",
      "LINKTO  2\n",
      "\n"
     ]
    },
    {
     "data": {
      "text/plain": [
       "['ID      1',\n",
       " 'LABEL   First item',\n",
       " 'URL     This is the hub',\n",
       " 'URL',\n",
       " \"TITLE   This is popup text\\nthis can be multiple lines\\nbut don't go crazy\",\n",
       " 'LINKTO  2']"
      ]
     },
     "execution_count": 16,
     "metadata": {},
     "output_type": "execute_result"
    }
   ],
   "source": [
    "graphString = \"\"\"\n",
    "    ID      1\n",
    "    LABEL   First item\n",
    "    URL     This is the hubURL\n",
    "    TITLE   This is popup text\n",
    "            this can be multiple lines\n",
    "            but don't go crazy\n",
    "    LINKTO  2\n",
    "    \n",
    "    ID      2\n",
    "    LABEL   Second Item\n",
    "    URL     This is the URL\n",
    "    TITLE   This is popup text\n",
    "\n",
    "    ID      3\n",
    "    LABEL   This is what shows\n",
    "    URL     This is the URL\n",
    "    TITLE   This is popup text\n",
    "\n",
    "    ID      4\n",
    "    LABEL   These two are siblings\n",
    "    URL     This is the URL\n",
    "    TITLE   This is popup text for the last item\n",
    "            a two-liner\n",
    "            \n",
    "    \"\"\"\n",
    "\n",
    "keywords = 'ID LABEL URL TITLE LINKTO'.split()\n",
    "\n",
    "def isBlank(line):\n",
    "    return not line.strip()\n",
    "\n",
    "def hasKeyword(line):\n",
    "    return line.split()[0] in keywords\n",
    "\n",
    "def breakup(graphString=graphString, condition = isBlank ):\n",
    "    chunks = []\n",
    "    partChunk = ''\n",
    "    for line in graphString.split('\\n'):\n",
    "        line=line+'\\n'                     #keep lines intact\n",
    "        if condition(line):                #end of chunk; add to chunk; reset partChunk\n",
    "            if partChunk:\n",
    "                chunks.append(partChunk + '\\n')  \n",
    "            partChunk = ''\n",
    "        else:\n",
    "            partChunk+=line               #grow chunk\n",
    "\n",
    "    return [chunk.strip() for chunk in chunks]\n",
    "    \n",
    "\n",
    "chunks = breakup(graphString, isBlank) \n",
    "\n",
    "cleanChunks=[]\n",
    "for chunk in chunks:\n",
    "    cleanChunk = ''\n",
    "    lines = chunk.split('\\n')\n",
    "    for line in lines:\n",
    "        line=line.strip()\n",
    "        cleanChunk+=line+'\\n'\n",
    "    cleanChunks.append(cleanChunk)\n",
    "\n",
    "chunk = cleanChunks[0]\n",
    "print(chunk)\n",
    "for keyword in keywords:\n",
    "    chunk=chunk.replace(keyword,'BREAK'+ keyword)\n",
    "lines=chunk.split('BREAK')\n",
    "[line.strip() for line in lines if line.strip()]"
   ]
  },
  {
   "cell_type": "code",
   "execution_count": 92,
   "metadata": {},
   "outputs": [
    {
     "name": "stdout",
     "output_type": "stream",
     "text": [
      "\n",
      "    ID      1\n",
      "    LABEL   First item\n",
      "    URL     This is the hubURL\n",
      "    TITLE   This is popup text\n",
      "            this can be multiple lines\n",
      "            but don't go crazy\n",
      "    LINKTO  2\n",
      "    \n",
      "    ID      2\n",
      "    LABEL   Second Item\n",
      "    URL     This is the URL\n",
      "    TITLE   This is popup text\n",
      "\n",
      "    ID      3\n",
      "    LABEL   This is what shows\n",
      "    URL     This is the URL\n",
      "    TITLE   This is popup text\n",
      "\n",
      "    ID      4\n",
      "    LABEL   These two are siblings\n",
      "    URL     This is the URL\n",
      "    TITLE   This is popup text for the last item\n",
      "            a two-liner\n",
      "            \n",
      "    \n"
     ]
    }
   ],
   "source": [
    "print(graphString)"
   ]
  },
  {
   "cell_type": "code",
   "execution_count": 15,
   "metadata": {},
   "outputs": [
    {
     "data": {
      "text/plain": [
       "[{'ID': '     1',\n",
       "  'LABEL': '  First item',\n",
       "  'URL': '    This is the hubURL',\n",
       "  'TITLE': \"  This is popup text\\nthis can be multiple lines\\nbut don't go crazy\",\n",
       "  'LINKTO': ' 2'},\n",
       " {'ID': '     2',\n",
       "  'LABEL': '  Second Item',\n",
       "  'URL': '    This is the URL',\n",
       "  'TITLE': '  This is popup text'}]"
      ]
     },
     "execution_count": 15,
     "metadata": {},
     "output_type": "execute_result"
    }
   ],
   "source": [
    "\n",
    "# Mandatory:   Keyword and first line of content on same line.\n",
    "graphString = \"\"\"\n",
    "    ID      1\n",
    "    LABEL   First item\n",
    "    URL     This is the hubURL\n",
    "    TITLE   This is popup text\n",
    "            this can be multiple lines\n",
    "            but don't go crazy\n",
    "    LINKTO  2\n",
    "\n",
    "    ID      2\n",
    "    LABEL   Second Item\n",
    "    URL     This is the URL\n",
    "    TITLE   This is popup text\n",
    "    \"\"\"\n",
    "\n",
    "keywords = 'ID LABEL URL TITLE LINKTO'.split()\n",
    "\n",
    "#break records at blank lines (shouldn't this be easier?)\n",
    "goodLines = []\n",
    "for line in graphString.split('\\n'):\n",
    "    line=line.strip()\n",
    "    if line.strip():             #keep non-blank lines\n",
    "        goodLines.append(line)  \n",
    "    else:                        #throw out the other\n",
    "        goodLines.append('BREAK\\n')\n",
    "goodLines = '\\n'.join(goodLines).split('BREAK\\n')                    #make a string\n",
    "chunks = [line.strip() for line in goodLines if line.strip()]        #split it at the BREAKs to make a chunk that will become a record\n",
    "\n",
    "\n",
    "#break each chunk at keyword to create records\n",
    "records = []\n",
    "for chunk in chunks:\n",
    "    for keyword in keywords:\n",
    "        chunk=chunk.replace('\\n'+ keyword,'BREAK'+ keyword)\n",
    "    lines=chunk.split('BREAK')\n",
    "    records.append([line.strip() for line in lines if line.strip()])\n",
    "records\n",
    "\n",
    "# convert records into nodes preserving order \n",
    "nodes = []\n",
    "for record in records:\n",
    "    node = dict()\n",
    "    for line in record:\n",
    "        key = line.split()[0]\n",
    "        value = ' '.join(line.split(' ')[1:])\n",
    "        node[key] = value\n",
    "    nodes.append(node)\n",
    "\n",
    "[node for node in nodes] #risk losing order but OK"
   ]
  },
  {
   "cell_type": "code",
   "execution_count": 9,
   "metadata": {},
   "outputs": [
    {
     "data": {
      "text/plain": [
       "['', '', '']"
      ]
     },
     "execution_count": 9,
     "metadata": {},
     "output_type": "execute_result"
    }
   ],
   "source": [
    "\n",
    "goodLines = []\n",
    "for line in graphString.split('\\n'):\n",
    "    line=line.strip()\n",
    "    if not line.strip():             #keep non-blank lines\n",
    "        goodLines.append(line)  \n"
   ]
  },
  {
   "cell_type": "code",
   "execution_count": 20,
   "metadata": {},
   "outputs": [
    {
     "ename": "SyntaxError",
     "evalue": "invalid syntax (<ipython-input-20-3890c1e0b357>, line 5)",
     "output_type": "error",
     "traceback": [
      "\u001b[0;36m  File \u001b[0;32m\"<ipython-input-20-3890c1e0b357>\"\u001b[0;36m, line \u001b[0;32m5\u001b[0m\n\u001b[0;31m    edges.append(dict(from=node['id'], to=node['linkto']))\u001b[0m\n\u001b[0m                         ^\u001b[0m\n\u001b[0;31mSyntaxError\u001b[0m\u001b[0;31m:\u001b[0m invalid syntax\n"
     ]
    }
   ],
   "source": [
    "def getEdges(nodes=getNodes()):\n",
    "        edges = []#[{'from':'1', 'to':'2'}]\n",
    "        for node in nodes:\n",
    "            d = (dict(from=node['id'], to=node['linkto'])\n",
    "            edges.append(dict(from=node['id'], to=node['linkto']))\n",
    "        return edges\n",
    "getEges(nodes)"
   ]
  },
  {
   "cell_type": "raw",
   "metadata": {},
   "source": [
    "[1,2,3].pop(0)"
   ]
  },
  {
   "cell_type": "code",
   "execution_count": null,
   "metadata": {},
   "outputs": [],
   "source": []
  }
 ],
 "metadata": {
  "kernelspec": {
   "display_name": "Python 3",
   "language": "python",
   "name": "python3"
  },
  "language_info": {
   "codemirror_mode": {
    "name": "ipython",
    "version": 3
   },
   "file_extension": ".py",
   "mimetype": "text/x-python",
   "name": "python",
   "nbconvert_exporter": "python",
   "pygments_lexer": "ipython3",
   "version": "3.7.4"
  }
 },
 "nbformat": 4,
 "nbformat_minor": 4
}
