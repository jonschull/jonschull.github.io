{
 "cells": [
  {
   "cell_type": "markdown",
   "metadata": {},
   "source": [
    "With this approach\n",
    "--keywords would not need to be upper case\n",
    "--they would get put in to LEFT, not ShortHands\n",
    "\n",
    "Shorthands will be an editor also so options can be collapsed\n",
    "-- and nodes can be collapsed to so they stay into alignment with keywords\n",
    "\n",
    "Need to test see if non-uppers screw up other stuff"
   ]
  },
  {
   "cell_type": "code",
   "execution_count": 33,
   "metadata": {},
   "outputs": [],
   "source": [
    "graphString=\"\"\"id alts\n",
    "\tlinkto  refreshGraph\n",
    "\tborderWidth 12\n",
    "\tfont size 23\n",
    "\tlabel alts\n",
    "id refreshGraph\n",
    "\tlinkto  dataAndOptions window.vis.DataSet parseOptions\n",
    "\tcolor lime\n",
    "\tlabel alts\n",
    "id dataAndOptions\n",
    "\tlinkto  getNodes getEdges\n",
    "\tlabel alts\n",
    "id getNodes\n",
    "\tlinkto\n",
    "\tlabel getNodes\n",
    "id getEdges\n",
    "\tlinkto\n",
    "\tlabel getEdges\n",
    "id window.vis.DataSet\n",
    "\tlinkto\n",
    "\tlabel window.vis.DataSet\n",
    "id parseOptions\n",
    "\tlinkto  getRecords\n",
    "\tlabel parseOptions\n",
    "id getRecords\n",
    "\tlinkto  getChunks\n",
    "\tlabel getRecords\n",
    "id getChunks\n",
    "\tlinkto\n",
    "\tlabel getChunks\n",
    "nodes\n",
    "\tcolor orange\n",
    "\tborderWidth 15\n",
    "\tfont size 23\n",
    "    \n",
    "edges\n",
    "\tcolor red\n",
    "\tfont size 23\"\"\""
   ]
  },
  {
   "cell_type": "code",
   "execution_count": 34,
   "metadata": {},
   "outputs": [
    {
     "data": {
      "text/plain": [
       "['id alts\\n\\tlinkto  refreshGraph\\n\\tborderWidth 12\\n\\tfont size 23\\n\\tlabel alts\\n',\n",
       " 'id refreshGraph\\n\\tlinkto  dataAndOptions window.vis.DataSet parseOptions\\n\\tcolor lime\\n\\tlabel alts\\n',\n",
       " 'id dataAndOptions\\n\\tlinkto  getNodes getEdges\\n\\tlabel alts\\n',\n",
       " 'id getNodes\\n\\tlinkto\\n\\tlabel getNodes\\n',\n",
       " 'id getEdges\\n\\tlinkto\\n\\tlabel getEdges\\n',\n",
       " 'id window.vis.DataSet\\n\\tlinkto\\n\\tlabel window.vis.DataSet\\n',\n",
       " 'id parseOptions\\n\\tlinkto  getRecords\\n\\tlabel parseOptions\\n',\n",
       " 'id getRecords\\n\\tlinkto  getChunks\\n\\tlabel getRecords\\n',\n",
       " 'id getChunks\\n\\tlinkto\\n\\tlabel getChunks\\n',\n",
       " 'nodes\\n\\tcolor orange\\n\\tborderWidth 15\\n\\tfont size 23\\n',\n",
       " 'edges\\n\\tcolor red\\n\\tfont size 23']"
      ]
     },
     "execution_count": 34,
     "metadata": {},
     "output_type": "execute_result"
    }
   ],
   "source": [
    "def getChunks(graphString=graphString):\n",
    "    \"\"\"each chunk is a string that needs to be converted into a record\"\"\"\n",
    "    lines = graphString.split('\\n')\n",
    "    withBreaks = []\n",
    "    for line in lines:\n",
    "        if not line.startswith('\\t'):\n",
    "            withBreaks.append('@@' + line)\n",
    "        else:\n",
    "            withBreaks.append(line)\n",
    "    rejoined = '\\n'.join(withBreaks)\n",
    "    ret=[ _ for _  in rejoined.split('@@') if _.strip()]\n",
    "    return ret\n",
    "getChunks()"
   ]
  },
  {
   "cell_type": "code",
   "execution_count": 35,
   "metadata": {},
   "outputs": [
    {
     "data": {
      "text/plain": [
       "[['id alts',\n",
       "  'linkto  refreshGraph',\n",
       "  'borderWidth 12',\n",
       "  'font size 23',\n",
       "  'label alts'],\n",
       " ['id refreshGraph',\n",
       "  'linkto  dataAndOptions window.vis.DataSet parseOptions',\n",
       "  'color lime',\n",
       "  'label alts'],\n",
       " ['id dataAndOptions', 'linkto  getNodes getEdges', 'label alts'],\n",
       " ['id getNodes', 'linkto', 'label getNodes'],\n",
       " ['id getEdges', 'linkto', 'label getEdges'],\n",
       " ['id window.vis.DataSet', 'linkto', 'label window.vis.DataSet'],\n",
       " ['id parseOptions', 'linkto  getRecords', 'label parseOptions'],\n",
       " ['id getRecords', 'linkto  getChunks', 'label getRecords'],\n",
       " ['id getChunks', 'linkto', 'label getChunks'],\n",
       " ['nodes', 'color orange', 'borderWidth 15', 'font size 23'],\n",
       " ['edges', 'color red', 'font size 23']]"
      ]
     },
     "execution_count": 35,
     "metadata": {},
     "output_type": "execute_result"
    }
   ],
   "source": [
    "keywords = \"\"\"\"id label url title linkto color shape\n",
    "font nodes edges x y layout physics hierarchical border\n",
    "borderWidth background opacity hidden\"\"\".split()\n",
    "\n",
    "def getRecords(graphString):\n",
    "    \"\"\"each record is a list of phrases taht will become a key value pair\n",
    "    complexity comes from fact that labels can be multi-line\"\"\"\n",
    "    chunks = getChunks(graphString)\n",
    "    records = []\n",
    "    for chunk in chunks:\n",
    "        for keyword in keywords: #we are now assuming indents\n",
    "            chunk=chunk.replace('\\n\\t'+ keyword,'BREAK'+ keyword) #keywords must be at beginning\n",
    "        lines=chunk.split('BREAK')\n",
    "        records.append([line.strip() for line in lines if line.strip()])\n",
    "    return records #used by getOptions and getNodes\n",
    "\n",
    "getRecords(graphString)"
   ]
  },
  {
   "cell_type": "code",
   "execution_count": null,
   "metadata": {},
   "outputs": [],
   "source": []
  },
  {
   "cell_type": "code",
   "execution_count": 48,
   "metadata": {},
   "outputs": [
    {
     "data": {
      "text/plain": [
       "222"
      ]
     },
     "execution_count": 48,
     "metadata": {},
     "output_type": "execute_result"
    }
   ],
   "source": [
    "def fixV(s):\n",
    "    if s in ['True', 'true']: return True\n",
    "    if s in ['False', 'false']: return False\n",
    "    try: # to convert to a number\n",
    "        return(int(s))\n",
    "    except:\n",
    "        return s #then just return as is\n",
    "    \n"
   ]
  },
  {
   "cell_type": "code",
   "execution_count": 76,
   "metadata": {},
   "outputs": [
    {
     "data": {
      "text/plain": [
       "{'id alts': {'linkto': 'refreshGraph',\n",
       "  'borderWidth': 12,\n",
       "  'font': {'size': 23},\n",
       "  'label': 'alts'},\n",
       " 'id refreshGraph': {'linkto': {'dataAndOptions': {'window.vis.DataSet': 'parseOptions'}},\n",
       "  'color': 'lime',\n",
       "  'label': 'alts'},\n",
       " 'id dataAndOptions': {'linkto': {'getNodes': 'getEdges'}, 'label': 'alts'},\n",
       " 'id getNodes': {'label': 'getNodes'},\n",
       " 'id getEdges': {'label': 'getEdges'},\n",
       " 'id window.vis.DataSet': {'label': 'window.vis.DataSet'},\n",
       " 'id parseOptions': {'linkto': 'getRecords', 'label': 'parseOptions'},\n",
       " 'id getRecords': {'linkto': 'getChunks', 'label': 'getRecords'},\n",
       " 'id getChunks': {'label': 'getChunks'},\n",
       " 'nodes': {'color': 'orange', 'borderWidth': 15, 'font': {'size': 23}},\n",
       " 'edges': {'color': 'red', 'font': {'size': 23}}}"
      ]
     },
     "execution_count": 76,
     "metadata": {},
     "output_type": "execute_result"
    }
   ],
   "source": [
    "def parseOptions(graphString=graphString):\n",
    "    records = getRecords(graphString)\n",
    "    newOpts = records#. SEE WHAT FAILS [record for record in records if record[0] in 'nodes edges layout physics'.split()]\n",
    "    options={}\n",
    "    for newOpt in newOpts:\n",
    "        kind = newOpt[0]\n",
    "        options[kind]= {}\n",
    "        for opt in newOpt[1:]:\n",
    "            if len(opt.split())>1:\n",
    "                k,vs = opt.split()[0], opt.split()[1:]\n",
    "\n",
    "                if len(vs)==1:\n",
    "                    v=vs[0]\n",
    "                    options[kind][k] = fixV(v)\n",
    "\n",
    "                if len(vs)==2:\n",
    "                    k2, v = vs\n",
    "                    if k not in options[kind]: #make sure we have the dict created\n",
    "                        options[kind][k]=dict()\n",
    "\n",
    "                    options[kind][k][k2] = fixV(v)\n",
    "\n",
    "                if len(vs)==3: #will fail beyond this\n",
    "                    k2, k3, v = vs\n",
    "                    if k not in options[kind]:\n",
    "                        options[kind][k]=dict()\n",
    "\n",
    "                    if k2 not in options[kind][k]:\n",
    "                        options[kind][k][k2] = dict()\n",
    "\n",
    "                    options[kind][k][k2][k3] = fixV(v)\n",
    "\n",
    "\n",
    "    return options\n",
    "parseOptions()"
   ]
  },
  {
   "cell_type": "code",
   "execution_count": 90,
   "metadata": {},
   "outputs": [
    {
     "data": {
      "text/plain": [
       "{'nodes': {'color': 'orange', 'borderWidth': 15, 'font': {'size': 23}},\n",
       " 'edges': {'color': 'red', 'font': {'size': 23}}}"
      ]
     },
     "execution_count": 90,
     "metadata": {},
     "output_type": "execute_result"
    }
   ],
   "source": [
    "#rebuild\n",
    "entries=[]\n",
    "PO = parseOptions()\n",
    "entries= dict(nodes=[], edges=[], options={})\n",
    "for k,v in PO.items():\n",
    "    if k.startswith('id'):\n",
    "        id = k.split('id')[1].strip()\n",
    "        node = {'id': id}\n",
    "        for k2,v2 in v.items():\n",
    "            node[k2]=v2\n",
    "        entries['nodes'].append(node)\n",
    "    else:\n",
    "        entries['options'][k]=v\n",
    "for node in entries[nodes]:\n",
    "    \n",
    "        \n",
    "entries['options']            "
   ]
  },
  {
   "cell_type": "code",
   "execution_count": null,
   "metadata": {},
   "outputs": [],
   "source": []
  },
  {
   "cell_type": "code",
   "execution_count": null,
   "metadata": {},
   "outputs": [],
   "source": []
  },
  {
   "cell_type": "code",
   "execution_count": null,
   "metadata": {},
   "outputs": [],
   "source": []
  },
  {
   "cell_type": "code",
   "execution_count": null,
   "metadata": {},
   "outputs": [],
   "source": []
  },
  {
   "cell_type": "code",
   "execution_count": 145,
   "metadata": {},
   "outputs": [
    {
     "data": {
      "text/plain": [
       "'nodes font size 12'"
      ]
     },
     "execution_count": 145,
     "metadata": {},
     "output_type": "execute_result"
    }
   ],
   "source": []
  },
  {
   "cell_type": "code",
   "execution_count": null,
   "metadata": {},
   "outputs": [],
   "source": []
  }
 ],
 "metadata": {
  "kernelspec": {
   "display_name": "Python 3",
   "language": "python",
   "name": "python3"
  },
  "language_info": {
   "codemirror_mode": {
    "name": "ipython",
    "version": 3
   },
   "file_extension": ".py",
   "mimetype": "text/x-python",
   "name": "python",
   "nbconvert_exporter": "python",
   "pygments_lexer": "ipython3",
   "version": "3.7.4"
  }
 },
 "nbformat": 4,
 "nbformat_minor": 4
}
