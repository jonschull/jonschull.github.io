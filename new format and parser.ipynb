{
 "cells": [
  {
   "cell_type": "code",
   "execution_count": 93,
   "metadata": {},
   "outputs": [
    {
     "data": {
      "text/plain": [
       "[['simpleNode'],\n",
       " ['node1',\n",
       "  'label=this is a label with an = sign ',\n",
       "  'title=multiline',\n",
       "  'title',\n",
       "  'thingy',\n",
       "  'URL = http://google.org']]"
      ]
     },
     "execution_count": 93,
     "metadata": {},
     "output_type": "execute_result"
    }
   ],
   "source": [
    "graphString = \"\"\"\n",
    "\n",
    "id  =simpleNode\n",
    "\n",
    "id=node1\n",
    "label=this is a label with an = sign \n",
    "title=multiline\n",
    "title\n",
    "thingy\n",
    "URL = http://google.org\n",
    "\n",
    "nodes=\n",
    "color=red\n",
    "shape=hexagon\n",
    "\n",
    "edges=\n",
    "color=RED\n",
    "\n",
    "layout=\n",
    "enabled=true\n",
    "\n",
    "edges=\n",
    "border=dotted\n",
    "\"\"\"\n",
    "lines = [line.strip() for line in graphString.split('\\n\\n') if line] #remove white matter\n",
    "kvs = [line.split('=',1) for line in lines] #list of [k,v] \n",
    "stripped =  [[k.strip(), v.strip().split('\\n')] for k,v in kvs] \n",
    "nodeData = [v for k,v in stripped if k=='id']\n",
    "optData = [(k,v) for k,v in stripped if k!='id']\n",
    "nodeData"
   ]
  },
  {
   "cell_type": "code",
   "execution_count": 94,
   "metadata": {},
   "outputs": [
    {
     "data": {
      "text/plain": [
       "[{'id': 'simpleNode'},\n",
       " {'id': 'node1',\n",
       "  'label': 'this is a label with an = sign ',\n",
       "  'title': 'multiline\\ntitle\\nthingy',\n",
       "  'URL': ' http://google.org'}]"
      ]
     },
     "execution_count": 94,
     "metadata": {},
     "output_type": "execute_result"
    }
   ],
   "source": [
    "nodes=[]\n",
    "for nodeDatum in nodeData:\n",
    "    node=dict(id = nodeDatum[0])\n",
    "    if len(nodeDatum)>1:\n",
    "        remainder = nodeDatum[1:]\n",
    "        for i,line in enumerate(remainder):\n",
    "            if '=' in line:\n",
    "                prop, value = line.split('=',1) \n",
    "                node[prop.strip()] = value\n",
    "            else: #append the line to the previous value, as with multi-line labels \n",
    "                node[prop]+='\\n' + line\n",
    "            \n",
    "    nodes.append(node)\n",
    "nodes"
   ]
  },
  {
   "cell_type": "code",
   "execution_count": null,
   "metadata": {},
   "outputs": [],
   "source": []
  },
  {
   "cell_type": "code",
   "execution_count": 95,
   "metadata": {},
   "outputs": [
    {
     "data": {
      "text/plain": [
       "[('nodes', ['color=red', 'shape=hexagon']),\n",
       " ('edges', ['color=RED']),\n",
       " ('layout', ['enabled=true']),\n",
       " ('edges', ['border=dotted'])]"
      ]
     },
     "execution_count": 95,
     "metadata": {},
     "output_type": "execute_result"
    }
   ],
   "source": [
    "optData"
   ]
  },
  {
   "cell_type": "code",
   "execution_count": 90,
   "metadata": {},
   "outputs": [
    {
     "data": {
      "text/plain": [
       "{'layout': {'enabled': True},\n",
       " 'nodes': {'color': 'red', 'shape': 'hexagon'},\n",
       " 'edges': {'color': 'RED', 'border': 'dotted'}}"
      ]
     },
     "execution_count": 90,
     "metadata": {},
     "output_type": "execute_result"
    }
   ],
   "source": [
    "options=dict(layout={}, nodes={}, edges={}, physics={})\n",
    "for optLine in optData:\n",
    "    k = optLine[0] #nodes, edges, etc.\n",
    "    for v in optLine[1]:  \n",
    "        #print(v)\n",
    "        prop, value = v.split('=',1)                #color , red\n",
    "        prop, value = prop.strip(), value.strip()   #color,red\n",
    "        if value == 'true': value=True\n",
    "        if value == 'false': value=False\n",
    "        options[k][prop] = value                    #options['nodes']['color'] = red\n",
    "\n",
    "for key in list(options.keys()): #remove e.g., options['physics']={} \n",
    "    if not options[key]:\n",
    "        del options[key]\n",
    "options        \n"
   ]
  },
  {
   "cell_type": "code",
   "execution_count": 86,
   "metadata": {},
   "outputs": [
    {
     "data": {
      "text/plain": [
       "{'layout': {'enabled': True},\n",
       " 'nodes': {'color': 'red', 'shape': 'hexagon'},\n",
       " 'edges': {'color': 'RED', 'border': 'dotted'}}"
      ]
     },
     "execution_count": 86,
     "metadata": {},
     "output_type": "execute_result"
    }
   ],
   "source": [
    "del options['physics']\n",
    "options"
   ]
  },
  {
   "cell_type": "code",
   "execution_count": 77,
   "metadata": {},
   "outputs": [
    {
     "data": {
      "text/plain": [
       "True"
      ]
     },
     "execution_count": 77,
     "metadata": {},
     "output_type": "execute_result"
    }
   ],
   "source": [
    "bool('false')"
   ]
  },
  {
   "cell_type": "code",
   "execution_count": null,
   "metadata": {},
   "outputs": [],
   "source": []
  },
  {
   "cell_type": "code",
   "execution_count": null,
   "metadata": {},
   "outputs": [],
   "source": []
  },
  {
   "cell_type": "code",
   "execution_count": 13,
   "metadata": {},
   "outputs": [
    {
     "ename": "AttributeError",
     "evalue": "'str' object has no attribute 'firstword'",
     "output_type": "error",
     "traceback": [
      "\u001b[0;31m---------------------------------------------------------------------------\u001b[0m",
      "\u001b[0;31mAttributeError\u001b[0m                            Traceback (most recent call last)",
      "\u001b[0;32m<ipython-input-13-f174e55a6774>\u001b[0m in \u001b[0;36m<module>\u001b[0;34m\u001b[0m\n\u001b[0;32m----> 1\u001b[0;31m \u001b[0;34m'a b c'\u001b[0m\u001b[0;34m.\u001b[0m\u001b[0mfirstword\u001b[0m\u001b[0;34m(\u001b[0m\u001b[0;34m)\u001b[0m\u001b[0;34m\u001b[0m\u001b[0;34m\u001b[0m\u001b[0m\n\u001b[0m",
      "\u001b[0;31mAttributeError\u001b[0m: 'str' object has no attribute 'firstword'"
     ]
    }
   ],
   "source": [
    "'a b c'.firstword()"
   ]
  },
  {
   "cell_type": "code",
   "execution_count": null,
   "metadata": {},
   "outputs": [],
   "source": []
  }
 ],
 "metadata": {
  "kernelspec": {
   "display_name": "Python 3",
   "language": "python",
   "name": "python3"
  },
  "language_info": {
   "codemirror_mode": {
    "name": "ipython",
    "version": 3
   },
   "file_extension": ".py",
   "mimetype": "text/x-python",
   "name": "python",
   "nbconvert_exporter": "python",
   "pygments_lexer": "ipython3",
   "version": "3.7.4"
  }
 },
 "nbformat": 4,
 "nbformat_minor": 4
}
