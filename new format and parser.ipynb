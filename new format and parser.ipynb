{
 "cells": [
  {
   "cell_type": "code",
   "execution_count": 26,
   "metadata": {},
   "outputs": [
    {
     "data": {
      "text/plain": [
       "3"
      ]
     },
     "execution_count": 26,
     "metadata": {},
     "output_type": "execute_result"
    }
   ],
   "source": [
    "def availableID(assignedIDs):\n",
    "    pool=set(range(100))\n",
    "    return list(pool-assignedIDs)[0]\n",
    "\n",
    "assigned=set()\n",
    "newID = availableID(assigned)\n",
    "assigned.add(newID)\n",
    "assigned, "
   ]
  },
  {
   "cell_type": "code",
   "execution_count": 31,
   "metadata": {},
   "outputs": [
    {
     "data": {
      "text/plain": [
       "[{'id': 'node1', 'DEPTH': 0, 'RAW': 'node1', 'PARENT': None},\n",
       " {'id': '    b', 'DEPTH': 4, 'RAW': '    b', 'PARENT': None},\n",
       " {'id': '    c',\n",
       "  'DEPTH': 4,\n",
       "  'RAW': '    c:nodeD',\n",
       "  'PARENT': {'id': 'node1', 'DEPTH': 0, 'RAW': 'node1', 'PARENT': None}},\n",
       " {'id': '    e',\n",
       "  'DEPTH': 4,\n",
       "  'RAW': '    e:f g h',\n",
       "  'PARENT': {'id': 'node1', 'DEPTH': 0, 'RAW': 'node1', 'PARENT': None}}]"
      ]
     },
     "execution_count": 31,
     "metadata": {},
     "output_type": "execute_result"
    }
   ],
   "source": [
    "shortHands=\"\"\"\n",
    "node1\n",
    "    b\n",
    "    c:nodeD\n",
    "    e:f g h\n",
    "\"\"\"\n",
    "def newPre(line): #IDs are provisional in preNodes\n",
    "    preNode = dict( id = line.split(':')[0],\n",
    "                    DEPTH = len(line) - len(line.lstrip()),\n",
    "                    RAW = line,\n",
    "                    PARENT = None)        \n",
    "    return preNode\n",
    "\n",
    "def getPreNodes(shortHands=shortHands):\n",
    "    preNodes = [newPre(line) for line in shortHands.split('\\n') if line]\n",
    "\n",
    "    for i, preNode in enumerate(preNodes): #compute parents\n",
    "        if i>1:\n",
    "            for j in range(i+1):\n",
    "                if preNodes[i-j]['DEPTH'] < preNode['DEPTH']: #found parent\n",
    "                    preNode['PARENT'] = preNodes[i-j]  #parents\n",
    "                    break # We now know our parent\n",
    "    return preNodes\n",
    "getPreNodes()"
   ]
  },
  {
   "cell_type": "code",
   "execution_count": null,
   "metadata": {},
   "outputs": [],
   "source": []
  },
  {
   "cell_type": "code",
   "execution_count": 33,
   "metadata": {
    "collapsed": true,
    "jupyter": {
     "outputs_hidden": true
    }
   },
   "outputs": [
    {
     "data": {
      "text/plain": [
       "([['simpleNode'],\n",
       "  ['node1',\n",
       "   'label=this is a label with an = sign ',\n",
       "   'title=multiline',\n",
       "   'title',\n",
       "   'thingy',\n",
       "   'URL = http://google.org']],\n",
       " [('nodes', ['color=red', 'shape=hexagon']),\n",
       "  ('edges', ['color=RED']),\n",
       "  ('layout', ['enabled=true']),\n",
       "  ('edges', ['border=dotted'])])"
      ]
     },
     "execution_count": 33,
     "metadata": {},
     "output_type": "execute_result"
    }
   ],
   "source": [
    "graphString = \"\"\"\n",
    "\n",
    "id  =simpleNode\n",
    "\n",
    "id=node1\n",
    "label=this is a label with an = sign \n",
    "title=multiline\n",
    "title\n",
    "thingy\n",
    "URL = http://google.org\n",
    "\n",
    "nodes=\n",
    "color=red\n",
    "shape=hexagon\n",
    "\n",
    "edges=\n",
    "color=RED\n",
    "\n",
    "layout=\n",
    "enabled=true\n",
    "\n",
    "edges=\n",
    "border=dotted\n",
    "\"\"\"\n",
    "def getRaw(longhand=graphString):\n",
    "    lines = [line.strip() for line in graphString.split('\\n\\n') if line] #remove white matter\n",
    "    kvs = [line.split('=',1) for line in lines] #list of [k,v] \n",
    "    stripped =  [[k.strip(), v.strip().split('\\n')] for k,v in kvs] \n",
    "    nodeData =   [v  for k,v in stripped if k=='id']\n",
    "    optData = [(k,v) for k,v in stripped if k!='id']\n",
    "    return nodeData, optData\n",
    "nodeData, optData = getRaw()\n",
    "nodeData,optData"
   ]
  },
  {
   "cell_type": "code",
   "execution_count": 34,
   "metadata": {},
   "outputs": [
    {
     "data": {
      "text/plain": [
       "[{'id': 'simpleNode'},\n",
       " {'id': 'node1',\n",
       "  'label': 'this is a label with an = sign ',\n",
       "  'title': 'multiline\\ntitle\\nthingy',\n",
       "  'URL': ' http://google.org'}]"
      ]
     },
     "execution_count": 34,
     "metadata": {},
     "output_type": "execute_result"
    }
   ],
   "source": [
    "def getNodes(nodeData):\n",
    "    nodes=[]\n",
    "    for nodeDatum in nodeData:\n",
    "        node=dict(id = nodeDatum[0])\n",
    "        if len(nodeDatum)>1:\n",
    "            remainder = nodeDatum[1:]\n",
    "            for i,line in enumerate(remainder):\n",
    "                if '=' in line:\n",
    "                    prop, value = line.split('=',1) \n",
    "                    node[prop.strip()] = value\n",
    "                else: #append the line to the previous value, as with multi-line labels \n",
    "                    node[prop]+='\\n' + line\n",
    "\n",
    "        nodes.append(node)\n",
    "    return nodes\n",
    "getNodes(nodeData)"
   ]
  },
  {
   "cell_type": "code",
   "execution_count": null,
   "metadata": {},
   "outputs": [],
   "source": []
  },
  {
   "cell_type": "code",
   "execution_count": 47,
   "metadata": {},
   "outputs": [
    {
     "name": "stdout",
     "output_type": "stream",
     "text": [
      "id     = simpleNode\n",
      "\n",
      "\n",
      "id     = node1\n",
      "label  = this is a label with an = sign \n",
      "title  = multiline\n",
      "title\n",
      "thingy\n",
      "URL    =  http://google.org\n",
      "\n",
      "\n"
     ]
    }
   ],
   "source": [
    "def toGraphString(nodes = getNodes(nodeData)):\n",
    "    ret=[]\n",
    "    for node in nodes:\n",
    "        for k,v in node.items():\n",
    "            ret.append(f'{k:6} = {v}')\n",
    "        ret.append('\\n')\n",
    "    return '\\n'.join(ret)\n",
    "print(toGraphString()  )"
   ]
  },
  {
   "cell_type": "code",
   "execution_count": 48,
   "metadata": {},
   "outputs": [
    {
     "data": {
      "text/plain": [
       "[{'id': 'simpleNode'},\n",
       " {'id': 'node1',\n",
       "  'label': 'this is a label with an = sign ',\n",
       "  'title': 'multiline\\ntitle\\nthingy',\n",
       "  'URL': ' http://google.org'}]"
      ]
     },
     "execution_count": 48,
     "metadata": {},
     "output_type": "execute_result"
    }
   ],
   "source": [
    "getNodes(getRaw(toGraphString())[0])"
   ]
  },
  {
   "cell_type": "code",
   "execution_count": 55,
   "metadata": {},
   "outputs": [
    {
     "data": {
      "text/plain": [
       "([{'id': 'simpleNode', 'DEPTH': 0, 'RAW': 'simpleNode: b', 'PARENT': None},\n",
       "  {'id': 'node1', 'DEPTH': 0, 'RAW': 'node1', 'PARENT': None},\n",
       "  {'id': '    node2',\n",
       "   'DEPTH': 4,\n",
       "   'RAW': '    node2',\n",
       "   'PARENT': {'id': 'node1', 'DEPTH': 0, 'RAW': 'node1', 'PARENT': None}},\n",
       "  {'id': '        node2b',\n",
       "   'DEPTH': 8,\n",
       "   'RAW': '        node2b',\n",
       "   'PARENT': {'id': '    node2',\n",
       "    'DEPTH': 4,\n",
       "    'RAW': '    node2',\n",
       "    'PARENT': {'id': 'node1', 'DEPTH': 0, 'RAW': 'node1', 'PARENT': None}}}],\n",
       " [{'id': 'simpleNode'},\n",
       "  {'id': 'node1',\n",
       "   'label': 'this is a label with an = sign ',\n",
       "   'title': 'multiline\\ntitle\\nthingy',\n",
       "   'URL': ' http://google.org'}])"
      ]
     },
     "execution_count": 55,
     "metadata": {},
     "output_type": "execute_result"
    }
   ],
   "source": [
    "oldGraphString = \"\"\"\n",
    "id     = simpleNode\n",
    "linkto = node1\n",
    "\n",
    "id     = node1\n",
    "label  = this is a label with an = sign \n",
    "title  = multiline\n",
    "title\n",
    "thingy\n",
    "URL    =  http://google.org\n",
    "\"\"\"\n",
    "\n",
    "newShortHands = \"\"\"\n",
    "simpleNode: b\n",
    "node1\n",
    "    node2\n",
    "        node2b\n",
    "\"\"\"\n",
    "\n",
    "oldNodes =  getNodes(oldGraphString)\n",
    "\n",
    "preNodes = getPreNodes(newShortHands)\n",
    "\n",
    "nodeData, optData = getRaw(oldGraphString)\n",
    "oldNodes = getNodes(nodeData)\n",
    "\n",
    "preNodes, oldNodes"
   ]
  },
  {
   "cell_type": "code",
   "execution_count": null,
   "metadata": {},
   "outputs": [],
   "source": [
    "def splice(oldNodes = oldNodes, preNodes = freshNodes ):"
   ]
  },
  {
   "cell_type": "code",
   "execution_count": 5,
   "metadata": {},
   "outputs": [
    {
     "data": {
      "text/plain": [
       "{'layout': {'enabled': True},\n",
       " 'nodes': {'color': 'red', 'shape': 'hexagon'},\n",
       " 'edges': {'color': 'RED', 'border': 'dotted'}}"
      ]
     },
     "execution_count": 5,
     "metadata": {},
     "output_type": "execute_result"
    }
   ],
   "source": [
    "def getOptions(optData=optData):\n",
    "    options=dict(layout={}, nodes={}, edges={}, physics={})\n",
    "    for optLine in optData:\n",
    "        k = optLine[0] #nodes, edges, etc.\n",
    "        for v in optLine[1]:  \n",
    "            #print(v)\n",
    "            prop, value = v.split('=',1)                #color , red\n",
    "            prop, value = prop.strip(), value.strip()   #color,red\n",
    "            if value == 'true': value=True\n",
    "            if value == 'false': value=False\n",
    "            options[k][prop] = value                    #options['nodes']['color'] = red\n",
    "\n",
    "    for key in list(options.keys()): #remove e.g., options['physics']={} \n",
    "        if not options[key]:\n",
    "            del options[key]\n",
    "    return options        \n",
    "getOptions(optData)"
   ]
  },
  {
   "cell_type": "code",
   "execution_count": null,
   "metadata": {},
   "outputs": [],
   "source": []
  },
  {
   "cell_type": "code",
   "execution_count": null,
   "metadata": {},
   "outputs": [],
   "source": [
    "\n"
   ]
  },
  {
   "cell_type": "code",
   "execution_count": null,
   "metadata": {},
   "outputs": [],
   "source": []
  },
  {
   "cell_type": "code",
   "execution_count": null,
   "metadata": {},
   "outputs": [],
   "source": []
  },
  {
   "cell_type": "code",
   "execution_count": null,
   "metadata": {},
   "outputs": [],
   "source": []
  },
  {
   "cell_type": "code",
   "execution_count": null,
   "metadata": {},
   "outputs": [],
   "source": []
  }
 ],
 "metadata": {
  "kernelspec": {
   "display_name": "Python 3",
   "language": "python",
   "name": "python3"
  },
  "language_info": {
   "codemirror_mode": {
    "name": "ipython",
    "version": 3
   },
   "file_extension": ".py",
   "mimetype": "text/x-python",
   "name": "python",
   "nbconvert_exporter": "python",
   "pygments_lexer": "ipython3",
   "version": "3.7.4"
  }
 },
 "nbformat": 4,
 "nbformat_minor": 4
}
