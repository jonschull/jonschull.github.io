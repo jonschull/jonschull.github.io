{
 "cells": [
  {
   "cell_type": "code",
   "execution_count": null,
   "metadata": {},
   "outputs": [],
   "source": []
  },
  {
   "cell_type": "code",
   "execution_count": null,
   "metadata": {},
   "outputs": [],
   "source": []
  },
  {
   "cell_type": "code",
   "execution_count": null,
   "metadata": {},
   "outputs": [],
   "source": []
  },
  {
   "cell_type": "code",
   "execution_count": null,
   "metadata": {},
   "outputs": [],
   "source": []
  },
  {
   "cell_type": "code",
   "execution_count": 7,
   "metadata": {},
   "outputs": [
    {
     "data": {
      "text/plain": [
       "[{'from': '1', 'to': '2'}, {'from': '1', 'to': '2b'}]"
      ]
     },
     "execution_count": 7,
     "metadata": {},
     "output_type": "execute_result"
    }
   ],
   "source": [
    "\n",
    "# Mandatory:   Keyword and first line of content on same line.\n",
    "graphString = \"\"\"\n",
    "    ID      1\n",
    "    LABEL   First item\n",
    "    URL     This is the hubURL\n",
    "    TITLE   This is popup text\n",
    "            this can be multiple lines\n",
    "            but don't go crazy\n",
    "    LINKTO  2 2b\n",
    "\n",
    "    ID      2\n",
    "    LABEL   Second Item\n",
    "    URL     This is the URL\n",
    "    TITLE   This is popup text\n",
    "    \n",
    "    ID      2b\n",
    "    LABEL   Second Item\n",
    "    URL     This is the URL\n",
    "    TITLE   This is popup text\n",
    "    \n",
    "    \n",
    "    \"\"\"\n",
    "\n",
    "keywords = 'ID LABEL URL TITLE LINKTO'.split()\n",
    "\n",
    "def getNodes(graphString=graphString):\n",
    "        #break records at blank lines (shouldn't this be easier?)\n",
    "        goodLines = []\n",
    "        for line in graphString.split('\\n'):\n",
    "            line=line.strip()\n",
    "            if line.strip():             #keep non-blank lines\n",
    "                goodLines.append(line)\n",
    "            else:                        #throw out the other\n",
    "                goodLines.append('BREAK\\n')\n",
    "        goodLines = '\\n'.join(goodLines).split('BREAK\\n')                    #make a string\n",
    "        chunks = [line.strip() for line in goodLines if line.strip()]        #split it at the BREAKs to make a chunk that will become a record\n",
    "\n",
    "\n",
    "        #break each chunk at keyword to create records\n",
    "        records = []\n",
    "        for chunk in chunks:\n",
    "            for keyword in keywords:\n",
    "                chunk=chunk.replace('\\n'+ keyword,'BREAK'+ keyword)\n",
    "            lines=chunk.split('BREAK')\n",
    "            records.append([line.strip() for line in lines if line.strip()])\n",
    "        records\n",
    "\n",
    "        # convert records into nodes preserving order\n",
    "        nodes = []\n",
    "        for record in records:\n",
    "            node = dict()\n",
    "            for line in record:\n",
    "                key = line.split()[0].lower()\n",
    "                value = ' '.join(line.split(' ')[1:]).strip()\n",
    "                node[key] = value\n",
    "            nodes.append(node)\n",
    "\n",
    "        return(nodes)\n",
    "    \n",
    "nodes=getNodes()\n",
    "nodes\n",
    "\n",
    "def getEdges(nodes):\n",
    "        edges = []#[{'from':'1', 'to':'2'}]\n",
    "        for node in nodes:            \n",
    "            if 'linkto' in node.keys():\n",
    "                links = node['linkto'].split()\n",
    "                for link in links:\n",
    "                    edges.append({'from':node['id'], \n",
    "                                   'to': link})  \n",
    "        return edges\n",
    "getEdges(nodes)"
   ]
  },
  {
   "cell_type": "code",
   "execution_count": 4,
   "metadata": {},
   "outputs": [
    {
     "data": {
      "text/plain": [
       "['2b']"
      ]
     },
     "execution_count": 4,
     "metadata": {},
     "output_type": "execute_result"
    }
   ],
   "source": [
    "'2b'.split()"
   ]
  },
  {
   "cell_type": "code",
   "execution_count": null,
   "metadata": {},
   "outputs": [],
   "source": []
  },
  {
   "cell_type": "raw",
   "metadata": {},
   "source": []
  },
  {
   "cell_type": "code",
   "execution_count": null,
   "metadata": {},
   "outputs": [],
   "source": []
  },
  {
   "cell_type": "code",
   "execution_count": null,
   "metadata": {},
   "outputs": [],
   "source": []
  }
 ],
 "metadata": {
  "kernelspec": {
   "display_name": "Python 3",
   "language": "python",
   "name": "python3"
  },
  "language_info": {
   "codemirror_mode": {
    "name": "ipython",
    "version": 3
   },
   "file_extension": ".py",
   "mimetype": "text/x-python",
   "name": "python",
   "nbconvert_exporter": "python",
   "pygments_lexer": "ipython3",
   "version": "3.7.4"
  }
 },
 "nbformat": 4,
 "nbformat_minor": 4
}
