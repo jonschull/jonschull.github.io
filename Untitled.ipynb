{
 "cells": [
  {
   "cell_type": "code",
   "execution_count": 18,
   "metadata": {},
   "outputs": [
    {
     "name": "stdout",
     "output_type": "stream",
     "text": [
      "id test\n",
      "\n",
      "id two\n",
      "\tlabel TWO\n",
      "\n",
      "nodes\n",
      "\tcolor red\n"
     ]
    }
   ],
   "source": [
    "graphString='id test\\nid two\\n\\tlabel TWO\\nnodes\\n\\tcolor red'\n",
    "lines = graphString.split('\\n')\n",
    "withBreaks = []\n",
    "for line in lines:\n",
    "    if not line.startswith('\\t'):\n",
    "        withBreaks.append('@@' + line)\n",
    "    else:\n",
    "        withBreaks.append(line)\n",
    "        \n",
    "rejoined = '\\n'.join(withBreaks)\n",
    "ret=[ _ for _  in rejoined.split('@@') if _.strip()]\n",
    "return ret\n"
   ]
  },
  {
   "cell_type": "code",
   "execution_count": 2,
   "metadata": {},
   "outputs": [
    {
     "ename": "SyntaxError",
     "evalue": "invalid syntax (<ipython-input-2-b74f776cfe9a>, line 1)",
     "output_type": "error",
     "traceback": [
      "\u001b[0;36m  File \u001b[0;32m\"<ipython-input-2-b74f776cfe9a>\"\u001b[0;36m, line \u001b[0;32m1\u001b[0m\n\u001b[0;31m    id test\u001b[0m\n\u001b[0m          ^\u001b[0m\n\u001b[0;31mSyntaxError\u001b[0m\u001b[0;31m:\u001b[0m invalid syntax\n"
     ]
    }
   ],
   "source": []
  },
  {
   "cell_type": "code",
   "execution_count": null,
   "metadata": {},
   "outputs": [],
   "source": []
  }
 ],
 "metadata": {
  "kernelspec": {
   "display_name": "Python 3",
   "language": "python",
   "name": "python3"
  },
  "language_info": {
   "codemirror_mode": {
    "name": "ipython",
    "version": 3
   },
   "file_extension": ".py",
   "mimetype": "text/x-python",
   "name": "python",
   "nbconvert_exporter": "python",
   "pygments_lexer": "ipython3",
   "version": "3.7.4"
  }
 },
 "nbformat": 4,
 "nbformat_minor": 4
}
