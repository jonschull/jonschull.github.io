{
 "cells": [
  {
   "cell_type": "code",
   "execution_count": 8,
   "metadata": {},
   "outputs": [
    {
     "data": {
      "text/plain": [
       "[{'ID': '1',\n",
       "  'LABEL': 'First item',\n",
       "  'URL': 'This is the hub',\n",
       "  'TITLE': 'This is popup text'},\n",
       " {'ID': '1.1',\n",
       "  'LABEL': 'Second Item',\n",
       "  'URL': 'This is the',\n",
       "  'TITLE': 'This is popup text'},\n",
       " {'ID': '1.1.1',\n",
       "  'LABEL': 'This is what shows',\n",
       "  'URL': 'This is the',\n",
       "  'TITLE': 'This is popup text'},\n",
       " {'ID': '1.1.2',\n",
       "  'LABEL': 'These two are siblings',\n",
       "  'URL': 'This is the',\n",
       "  'TITLE': 'This is popup text for the last item'}]"
      ]
     },
     "execution_count": 8,
     "metadata": {},
     "output_type": "execute_result"
    }
   ],
   "source": [
    "graphString = \"\"\"\n",
    "    ID      1\n",
    "    LABEL   First item\n",
    "    URL     This is the hubURL\n",
    "    TITLE   This is popup text\n",
    "    it can be multiple lines\n",
    "    but don't go crazy\n",
    "\n",
    "    ID      1.1\n",
    "    LABEL   Second Item\n",
    "    URL     This is the URL\n",
    "    TITLE   This is popup text\n",
    "\n",
    "    ID      1.1.1\n",
    "    LABEL   This is what shows\n",
    "    URL     This is the URL\n",
    "    TITLE   This is popup text\n",
    "\n",
    "    ID      1.1.2\n",
    "    LABEL   These two are siblings\n",
    "    URL     This is the URL\n",
    "    TITLE   This is popup text for the last item\n",
    "    \"\"\"\n",
    "\n",
    "keywords = 'ID LABEL URL TITLE'.split()\n",
    "\n",
    "def getItems(graphString=graphString):\n",
    "    items = graphString.strip().split('ID')\n",
    "    items = [item for item in items if item.strip()]\n",
    "    nodes=[] #a list of dicts\n",
    "    for item in items:\n",
    "        node = dict()\n",
    "        for i, line in enumerate(item.split('\\n')):\n",
    "            if line.strip():\n",
    "                if i == 0: line = 'ID ' + line\n",
    "                firstWord = line.split()[0]\n",
    "                if firstWord in keywords:\n",
    "                    node[firstWord] = line.replace(firstWord,'').strip()\n",
    "        nodes.append(node)\n",
    "    return(nodes)\n",
    "\n",
    "getItems()"
   ]
  },
  {
   "cell_type": "code",
   "execution_count": null,
   "metadata": {},
   "outputs": [],
   "source": []
  }
 ],
 "metadata": {
  "kernelspec": {
   "display_name": "Python 3",
   "language": "python",
   "name": "python3"
  },
  "language_info": {
   "codemirror_mode": {
    "name": "ipython",
    "version": 3
   },
   "file_extension": ".py",
   "mimetype": "text/x-python",
   "name": "python",
   "nbconvert_exporter": "python",
   "pygments_lexer": "ipython3",
   "version": "3.7.4"
  }
 },
 "nbformat": 4,
 "nbformat_minor": 4
}
