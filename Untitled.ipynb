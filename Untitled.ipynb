{
 "cells": [
  {
   "cell_type": "code",
   "execution_count": 4,
   "metadata": {},
   "outputs": [],
   "source": [
    "from IPython.core.display import HTML"
   ]
  },
  {
   "cell_type": "code",
   "execution_count": 9,
   "metadata": {
    "collapsed": true,
    "jupyter": {
     "outputs_hidden": true
    }
   },
   "outputs": [
    {
     "data": {
      "text/html": [
       "\n",
       "<div class=\"markdown-render\">\n",
       "    <p><a href=\"https://kumu.io/Ikaplan/volunteer-steps#untitled-map/step-10-join-a-local-chapter\" target=\"_blank\" rel=\"noreferrer noopener\">https://kumu.io/Ikaplan/volunteer-steps#untitled-map/step-10-join-a-local-chapter</a></p>\n",
       "<h1><strong>How to Get Started as a Volunteer</strong></h1>\n",
       "<h4>For a more detailed set of instructions visit the e-NABLE Forum’s page<a href=\"https://hub.e-nable.org/content/perma?id=307\" target=\"_blank\" rel=\"noreferrer noopener\"> How to Get Started as an e-NABLE Volunteer.</a> Also to learn how to join an existing chapter scroll step 10.</h4>\n",
       "<h4></h4>\n",
       "<p><strong>Step 1</strong>: Go to <a href=\"https://hub.e-nable.org/s/e-nable-forum/wiki/page/view?title=Welcome+to+e-NABLE%21%20\" target=\"_blank\" rel=\"noreferrer noopener\">Welcome Page</a> to familiarize yourself with the e-NABLE Hub (the online platform you are currently on).</p>\n",
       "<p><strong>Step 2:</strong> Familiarize yourself with <a href=\"https://hub.e-nable.org/s/e-nable-forum/wiki/page/view?title=e-NABLE+Code+of+Conduct%20\" target=\"_blank\" rel=\"noreferrer noopener\">e-NABLE Code of Conduct</a> carefully and complete <a href=\"https://forms.gle/C2F5aKBwhUqeSRrX8\" target=\"_blank\" rel=\"noreferrer noopener\">this short form</a> to indicate your acceptance.</p>\n",
       "<p><strong>Step 3:</strong> Familiarize yourself with the current e‑NABLE designs available by search the hub. Some places to get started: <a href=\"https://hub.e-nable.org/s/e-nable-devices\" target=\"_blank\" rel=\"noreferrer noopener\">This page</a> includes a list of current e-NABLE designs along with links to STL files (for 3D printing), documentation, assembly tutorial videos, and other related information.</p>\n",
       "<p><strong>Step 4</strong>: Make a test device and submit it for approval. Some test device tips:</p>\n",
       "<ul>\n",
       "<li>Since this device isn’t being created for a specific recipient, it can be made in any size, but we recommend that you use a scale of 120-135%.</li>\n",
       "<li>Most of the designs featured in the <a href=\"https://hub.e-nable.org/s/e-nable-devices\" target=\"_blank\" rel=\"noreferrer noopener\">design reference</a> include links to instructions and/or video tutorials to help you get started.</li>\n",
       "<li>3D Universe offers <a href=\"https://shop3duniverse.com/collections/3d-printable-kits\" target=\"_blank\" rel=\"noreferrer noopener\">assembly materials kits</a> for some of the most popular e‑NABLE designs. Assembly materials can also be purchased individually from various online or local sources.</li>\n",
       "</ul>\n",
       "<p><strong>Step 5:</strong> Submit your test device for approval by <a href=\"https://hub.e-nable.org/p/badge-request\" target=\"_blank\" rel=\"noreferrer noopener\">filling out this form</a> to submit your evidence and request the appropriate badge. <a href=\"https://hub.e-nable.org/content/perma?id=40412\" target=\"_blank\" rel=\"noreferrer noopener\">To learn more about visit Badges and e-NABLE Processes. </a></p>\n",
       "<p><strong>Step 6:</strong> Learn how to properly size e‑NABLE devices. Please see <a href=\"https://hub.e-nable.org/content/perma?id=391\" target=\"_blank\" rel=\"noreferrer noopener\">this page</a> for details.</p>\n",
       "<p><strong>Step 7:</strong> Create an account on e‑NABLE Web Central. e‑NABLE Web Central is a web-based application used to connect individuals seeking to receive e‑NABLE devices with volunteers offering to make them. Visit <a href=\"https://www.enablewebcentral.com/\" target=\"_blank\" rel=\"noreferrer noopener\">e‑NABLE Web Central</a> and create an account for yourself.</p>\n",
       "<p><strong>Step 8:</strong> Introduce yourself in the <a href=\"https://hub.e-nable.org/s/e-nable-forum/\" target=\"_blank\" rel=\"noreferrer noopener\">e-NABLE Forum</a> and <a href=\"https://hub.e-nable.org/p/badge-request\" target=\"_blank\" rel=\"noreferrer noopener\">Claim</a> your “Joined the e-NABLE Hub“, “Introduced Self in the e-NABLE Hub“ and “e-NABLE Volunteer” badges (in the e-NABLE Community Participation Badge category)!”</p>\n",
       "<p><strong>Step 9</strong>: Find Someone Who Needs a Device and Offer to Help by going to e-NABLE Web Central. Before making a device for a recipient, we recommend that you have them sign a <a href=\"https://drive.google.com/open?id=0B7IZ4iPA1DJZV2pBT2ppNDV0aFU\" target=\"_blank\" rel=\"noreferrer noopener\">Release and Waiver of Liability</a> and a <a href=\"https://drive.google.com/open?id=0B7IZ4iPA1DJZcW9LNlpuWVZjU28\" target=\"_blank\" rel=\"noreferrer noopener\">Photo/Video Release Agreement</a>.</p>\n",
       "<p><strong>Step 10:</strong> Join a local e‑NABLE chapter – or start a new one. A list of e‑NABLE chapters can be found <a href=\"https://hub.e-nable.org/p/e-nable-chapters/?filterN=Chapter\" target=\"_blank\" rel=\"noreferrer noopener\">here</a>. Feel free to reach out to nearby chapters to see how you can get involved with them. You can also start a new chapter in your area.</p>\n",
       "<p><strong>Step 11</strong>: Search for your own cases, both near and far</p>\n",
       "<p>While registering for EWC (e-NABLE Web Central), and volunteering for cases is an excellent way to lend a hand, don’t stop there! There is plenty of need in our world, and regions of poverty and strife can present opportunities to donate prostheses. Do research and find organizations or individuals who might be interested in your help. Then reach out with a “cold call” email, and offer your assistance. You may be surprised by their response!</p>\n",
       "<p>One thing to watch out for is “collisions.” If you think another e-NABLE player may already have contacted your regional prospect, compare notes and coordinate.</p>\n",
       "<p><strong>Important reminder!</strong> The relationship between the recipient and maker should not be simply and make and receive. It should be a collaborative process where the two work collaboratively to make the hand that best needs the recipient’s needs. This will probably take a couple of drafts and do-overs until it is perfect. Do not be discouraged it is all part of the process. </p>\n",
       "</div>"
      ],
      "text/plain": [
       "<IPython.core.display.HTML object>"
      ]
     },
     "execution_count": 9,
     "metadata": {},
     "output_type": "execute_result"
    }
   ],
   "source": [
    "#https://hub.e-nable.org/enable/custom/wiki?id=366\n",
    "S=\"\\n<div class=\\\"markdown-render\\\">\\n    <p><a href=\\\"https:\\/\\/kumu.io\\/Ikaplan\\/volunteer-steps#untitled-map\\/step-10-join-a-local-chapter\\\" target=\\\"_blank\\\" rel=\\\"noreferrer noopener\\\">https:\\/\\/kumu.io\\/Ikaplan\\/volunteer-steps#untitled-map\\/step-10-join-a-local-chapter<\\/a><\\/p>\\n<h1><strong>How to Get Started as a Volunteer<\\/strong><\\/h1>\\n<h4>For a more detailed set of instructions visit the e-NABLE Forum\\u2019s page<a href=\\\"https:\\/\\/hub.e-nable.org\\/content\\/perma?id=307\\\" target=\\\"_blank\\\" rel=\\\"noreferrer noopener\\\"> How to Get Started as an e-NABLE Volunteer.<\\/a> Also to learn how to join an existing chapter scroll step 10.<\\/h4>\\n<h4><\\/h4>\\n<p><strong>Step 1<\\/strong>: Go to\\u00a0<a href=\\\"https:\\/\\/hub.e-nable.org\\/s\\/e-nable-forum\\/wiki\\/page\\/view?title=Welcome+to+e-NABLE%21%20\\\" target=\\\"_blank\\\" rel=\\\"noreferrer noopener\\\">Welcome Page<\\/a>\\u00a0to familiarize yourself with the e-NABLE Hub (the online platform you are currently on).<\\/p>\\n<p><strong>Step 2:<\\/strong> Familiarize yourself with\\u00a0<a href=\\\"https:\\/\\/hub.e-nable.org\\/s\\/e-nable-forum\\/wiki\\/page\\/view?title=e-NABLE+Code+of+Conduct%20\\\" target=\\\"_blank\\\" rel=\\\"noreferrer noopener\\\">e-NABLE Code of Conduct<\\/a>\\u00a0carefully and complete\\u00a0<a href=\\\"https:\\/\\/forms.gle\\/C2F5aKBwhUqeSRrX8\\\" target=\\\"_blank\\\" rel=\\\"noreferrer noopener\\\">this short form<\\/a>\\u00a0to indicate your acceptance.<\\/p>\\n<p><strong>Step 3:<\\/strong> Familiarize yourself with the current e\\u2011NABLE designs available by search the hub. Some places to get started: <a href=\\\"https:\\/\\/hub.e-nable.org\\/s\\/e-nable-devices\\\" target=\\\"_blank\\\" rel=\\\"noreferrer noopener\\\">This page<\\/a>\\u00a0includes a list of current e-NABLE designs along with links to STL files (for 3D printing), documentation, assembly tutorial videos, and other related information.<\\/p>\\n<p><strong>Step 4<\\/strong>: Make a test device and submit it for approval. Some test device tips:<\\/p>\\n<ul>\\n<li>Since this device isn\\u2019t being created for a specific recipient, it can be made in any size, but we recommend that you use a scale of 120-135%.<\\/li>\\n<li>Most of the designs featured in the\\u00a0<a href=\\\"https:\\/\\/hub.e-nable.org\\/s\\/e-nable-devices\\\" target=\\\"_blank\\\" rel=\\\"noreferrer noopener\\\">design reference<\\/a>\\u00a0include links to instructions and\\/or video tutorials to help you get started.<\\/li>\\n<li>3D Universe offers\\u00a0<a href=\\\"https:\\/\\/shop3duniverse.com\\/collections\\/3d-printable-kits\\\" target=\\\"_blank\\\" rel=\\\"noreferrer noopener\\\">assembly materials kits<\\/a>\\u00a0for some of the most popular e\\u2011NABLE designs. Assembly materials can also be purchased individually from various online or local sources.<\\/li>\\n<\\/ul>\\n<p><strong>Step 5:<\\/strong> Submit your test device for approval by\\u00a0<a href=\\\"https:\\/\\/hub.e-nable.org\\/p\\/badge-request\\\" target=\\\"_blank\\\" rel=\\\"noreferrer noopener\\\">filling out this form<\\/a>\\u00a0to submit your evidence and request the appropriate badge. <a href=\\\"https:\\/\\/hub.e-nable.org\\/content\\/perma?id=40412\\\" target=\\\"_blank\\\" rel=\\\"noreferrer noopener\\\">To learn more about visit Badges and e-NABLE Processes. <\\/a><\\/p>\\n<p><strong>Step 6:<\\/strong> Learn how to properly size e\\u2011NABLE devices. Please see\\u00a0<a href=\\\"https:\\/\\/hub.e-nable.org\\/content\\/perma?id=391\\\" target=\\\"_blank\\\" rel=\\\"noreferrer noopener\\\">this page<\\/a>\\u00a0for details.<\\/p>\\n<p><strong>Step 7:<\\/strong> Create an account on e\\u2011NABLE Web Central. e\\u2011NABLE Web Central is a web-based application used to connect individuals seeking to receive e\\u2011NABLE devices with volunteers offering to make them. Visit\\u00a0<a href=\\\"https:\\/\\/www.enablewebcentral.com\\/\\\" target=\\\"_blank\\\" rel=\\\"noreferrer noopener\\\">e\\u2011NABLE Web Central<\\/a>\\u00a0and create an account for yourself.<\\/p>\\n<p><strong>Step 8:<\\/strong> Introduce yourself in the\\u00a0<a href=\\\"https:\\/\\/hub.e-nable.org\\/s\\/e-nable-forum\\/\\\" target=\\\"_blank\\\" rel=\\\"noreferrer noopener\\\">e-NABLE Forum<\\/a>\\u00a0and\\u00a0<a href=\\\"https:\\/\\/hub.e-nable.org\\/p\\/badge-request\\\" target=\\\"_blank\\\" rel=\\\"noreferrer noopener\\\">Claim<\\/a>\\u00a0your \\u201cJoined the e-NABLE Hub\\u201c, \\u201cIntroduced Self in the e-NABLE Hub\\u201c and \\u201ce-NABLE Volunteer\\u201d badges (in the e-NABLE Community Participation Badge category)!\\u201d<\\/p>\\n<p><strong>Step 9<\\/strong>: Find Someone Who Needs a Device and Offer to Help by going to e-NABLE Web Central. Before making a device for a recipient, we recommend that you have them sign a\\u00a0<a href=\\\"https:\\/\\/drive.google.com\\/open?id=0B7IZ4iPA1DJZV2pBT2ppNDV0aFU\\\" target=\\\"_blank\\\" rel=\\\"noreferrer noopener\\\">Release and Waiver of Liability<\\/a>\\u00a0and a\\u00a0<a href=\\\"https:\\/\\/drive.google.com\\/open?id=0B7IZ4iPA1DJZcW9LNlpuWVZjU28\\\" target=\\\"_blank\\\" rel=\\\"noreferrer noopener\\\">Photo\\/Video Release Agreement<\\/a>.<\\/p>\\n<p><strong>Step 10:<\\/strong> Join a local e\\u2011NABLE chapter \\u2013 or start a new one. A list of e\\u2011NABLE chapters can be found\\u00a0<a href=\\\"https:\\/\\/hub.e-nable.org\\/p\\/e-nable-chapters\\/?filterN=Chapter\\\" target=\\\"_blank\\\" rel=\\\"noreferrer noopener\\\">here<\\/a>. Feel free to reach out to nearby chapters to see how you can get involved with them. You can also start a new chapter in your area.<\\/p>\\n<p><strong>Step 11<\\/strong>: Search for your own cases, both near and far<\\/p>\\n<p>While registering for EWC (e-NABLE Web Central), and volunteering for cases is an excellent way to lend a hand, don\\u2019t stop there! There is plenty of need in our world, and regions of poverty and strife can present opportunities to donate prostheses. Do research and find organizations or individuals who might be interested in your help. Then reach out with a \\u201ccold call\\u201d email, and offer your assistance. You may be surprised by their response!<\\/p>\\n<p>One thing to watch out for is \\u201ccollisions.\\u201d If you think another e-NABLE player may already have contacted your regional prospect, compare notes and coordinate.<\\/p>\\n<p><strong>Important reminder!<\\/strong> The relationship between the recipient and maker should not be simply and make and receive. It should be a collaborative process where the two work collaboratively to make the hand that best needs the recipient\\u2019s needs. This will probably take a couple of drafts and do-overs until it is perfect. Do not be discouraged it is all part of the process. <\\/p>\\n<\\/div>\"\n",
    "HTML(S.replace('\\/','/'))"
   ]
  },
  {
   "cell_type": "code",
   "execution_count": 10,
   "metadata": {},
   "outputs": [
    {
     "data": {
      "text/plain": [
       "6045"
      ]
     },
     "execution_count": 10,
     "metadata": {},
     "output_type": "execute_result"
    }
   ],
   "source": [
    "open('testsource.html', 'w').write(S)"
   ]
  },
  {
   "cell_type": "code",
   "execution_count": null,
   "metadata": {},
   "outputs": [],
   "source": [
    "Enter = \"\"\"\n",
    "\"\"\""
   ]
  },
  {
   "cell_type": "raw",
   "metadata": {},
   "source": [
    "ShiftEnter=\"\"\""
   ]
  },
  {
   "cell_type": "code",
   "execution_count": null,
   "metadata": {},
   "outputs": [],
   "source": []
  },
  {
   "cell_type": "code",
   "execution_count": null,
   "metadata": {},
   "outputs": [],
   "source": []
  },
  {
   "cell_type": "code",
   "execution_count": null,
   "metadata": {},
   "outputs": [],
   "source": []
  }
 ],
 "metadata": {
  "kernelspec": {
   "display_name": "Python 3",
   "language": "python",
   "name": "python3"
  },
  "language_info": {
   "codemirror_mode": {
    "name": "ipython",
    "version": 3
   },
   "file_extension": ".py",
   "mimetype": "text/x-python",
   "name": "python",
   "nbconvert_exporter": "python",
   "pygments_lexer": "ipython3",
   "version": "3.7.4"
  }
 },
 "nbformat": 4,
 "nbformat_minor": 4
}
