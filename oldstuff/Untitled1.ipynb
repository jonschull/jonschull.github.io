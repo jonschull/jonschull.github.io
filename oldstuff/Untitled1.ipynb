{
 "cells": [
  {
   "cell_type": "markdown",
   "metadata": {},
   "source": [
    "With this approach\n",
    "--keywords would not need to be upper case\n",
    "--they would get put in to LEFT, not ShortHands\n",
    "\n",
    "Shorthands will be an editor also so options can be collapsed\n",
    "-- and nodes can be collapsed to so they stay into alignment with keywords\n",
    "\n",
    "Need to test see if non-uppers screw up other stuff"
   ]
  },
  {
   "cell_type": "code",
   "execution_count": 86,
   "metadata": {},
   "outputs": [],
   "source": [
    "\n",
    "keywords = 'ID LABEL URL TITLE LINKTO COLOR SHAPE FONT NODES EDGES X Y LAYOUT PHYSICS HIERARCHICAL borderwidth'.lower().split()\n",
    "\n",
    "def getRecords(graphString):\n",
    "    goodLines = []\n",
    "    graphString = graphString.replace(chr(11),'\\n')\n",
    "    for line in graphString.split('\\n'):\n",
    "        line=line.strip()\n",
    "        if line.strip():             #keep non-blank lines\n",
    "            goodLines.append(line)\n",
    "        else:                        #throw out the other\n",
    "            goodLines.append('BREAK\\n')\n",
    "    goodLines = '\\n'.join(goodLines).split('BREAK\\n')                    #make a string\n",
    "    chunks = [line.strip() for line in goodLines if line.strip()]        #split it at the BREAKs to make a chunk that will become a record\n",
    "\n",
    "    #break each chunk at keyword to create records\n",
    "    records = []\n",
    "    for chunk in chunks:\n",
    "        for keyword in keywords:\n",
    "            chunk=chunk.replace('\\n'+ keyword,'BREAK'+ keyword) #keywords must be at beginning\n",
    "        lines=chunk.split('BREAK')\n",
    "        records.append([line.strip() for line in lines if line.strip()])\n",
    "    return records #used by getOptions and getNodes\n"
   ]
  },
  {
   "cell_type": "code",
   "execution_count": null,
   "metadata": {},
   "outputs": [],
   "source": []
  },
  {
   "cell_type": "code",
   "execution_count": 90,
   "metadata": {},
   "outputs": [
    {
     "name": "stdout",
     "output_type": "stream",
     "text": [
      "color 1\n",
      "shape 3\n",
      "font 2\n"
     ]
    },
    {
     "data": {
      "text/plain": [
       "{'nodes': {'color': 'red',\n",
       "  'shape': {'square': {'borderwidth': '2'}},\n",
       "  'font': {'size': '12'}}}"
      ]
     },
     "execution_count": 90,
     "metadata": {},
     "output_type": "execute_result"
    }
   ],
   "source": [
    "graphString = \"\"\"\n",
    "nodes\n",
    "    color red\n",
    "    shape square\n",
    "    borderWidth 2\n",
    "    font size 12\n",
    "\n",
    "ID test nodes\n",
    "LINKTO\n",
    "LABEL test\n",
    "\n",
    "\n",
    "ID options\n",
    "LINKTO nodes edges layout physics\n",
    "LABEL options\n",
    "\n",
    "\n",
    "ID nodes\n",
    "LINKTO borderWidth borderWidthSelected opacity font shadow shape 1\n",
    "LABEL nodes\n",
    "\n",
    "\n",
    "ID borderWidth\n",
    "LINKTO 4\n",
    "LABEL borderWidth\n",
    "\n",
    "\n",
    "ID borderWidthSelected\n",
    "LINKTO 0\n",
    "LABEL borderWidthSelected\n",
    "\n",
    "\n",
    "ID opacity\n",
    "LINKTO 0\n",
    "LABEL opacity\n",
    "\"\"\"\n",
    "\n",
    "from collections import defaultdict\n",
    "def parseOptions(graphString=graphString):\n",
    "    records = getRecords(graphString)\n",
    "    newOpts = [record for record in records if record[0] in 'NODES EDGES LAYOUT PHYSICS'.lower().split()]\n",
    "    options={}\n",
    "    for newOpt in newOpts:\n",
    "        nodesOrEdges = newOpt[0].lower()\n",
    "        options[nodesOrEdges]= {}\n",
    "        for opt in newOpt[1:]:\n",
    "            if len(opt.split())>1:\n",
    "                k,vs = opt.split()[0], opt.split()[1:]\n",
    "                print(k,len(vs))\n",
    "                \n",
    "                if len(vs)==1:\n",
    "                    v=vs[0]\n",
    "                    options[nodesOrEdges][k.lower()] = v\n",
    "                    \n",
    "                if len(vs)==2:\n",
    "                    k2, v = vs\n",
    "                    if k.lower() not in options[nodesOrEdges]: #make sure we have the dict created\n",
    "                        options[nodesOrEdges][k.lower()]=dict()\n",
    "                    options[nodesOrEdges][k][k2] = v\n",
    "                    \n",
    "                if len(vs)==3:\n",
    "                    k2, k3, v = vs\n",
    "                    if k.lower() not in options[nodesOrEdges]:\n",
    "                        options[nodesOrEdges][k.lower()]=dict()\n",
    "                    if k2.lower() not in options[nodesOrEdges][k.lower()]:\n",
    "                        options[nodesOrEdges][k.lower()][k2.lower()] = dict()\n",
    "                    options[nodesOrEdges][k.lower()][k2.lower()][k3.lower()] = v\n",
    "                        \n",
    "                \n",
    "    return options\n",
    "\n",
    "parseOptions()\n"
   ]
  },
  {
   "cell_type": "code",
   "execution_count": null,
   "metadata": {},
   "outputs": [],
   "source": []
  }
 ],
 "metadata": {
  "kernelspec": {
   "display_name": "Python 3",
   "language": "python",
   "name": "python3"
  },
  "language_info": {
   "codemirror_mode": {
    "name": "ipython",
    "version": 3
   },
   "file_extension": ".py",
   "mimetype": "text/x-python",
   "name": "python",
   "nbconvert_exporter": "python",
   "pygments_lexer": "ipython3",
   "version": "3.7.4"
  }
 },
 "nbformat": 4,
 "nbformat_minor": 4
}
